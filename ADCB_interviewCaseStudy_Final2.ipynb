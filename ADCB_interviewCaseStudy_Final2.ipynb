{
 "cells": [
  {
   "cell_type": "markdown",
   "id": "e2ce3346",
   "metadata": {},
   "source": [
    "### Importing Libraries"
   ]
  },
  {
   "cell_type": "code",
   "execution_count": 4,
   "id": "275e8001",
   "metadata": {},
   "outputs": [],
   "source": [
    "import pandas as pd\n",
    "import numpy as np\n",
    "import matplotlib.pyplot as plt\n",
    "import seaborn as sns\n",
    "from sklearn.preprocessing import StandardScaler\n",
    "from sklearn.preprocessing import MinMaxScaler\n",
    "from fast_ml.model_development import train_valid_test_split\n",
    "from sklearn.linear_model import LogisticRegression\n",
    "from sklearn import metrics\n",
    "from sklearn.metrics import classification_report\n",
    "from sklearn.metrics import roc_auc_score\n",
    "from sklearn.metrics import roc_curve\n",
    "from sklearn.metrics import confusion_matrix\n",
    "import statsmodels.api as sm\n",
    "from sklearn.feature_selection import RFE\n",
    "from imblearn.over_sampling import SMOTE\n",
    "%matplotlib inline"
   ]
  },
  {
   "cell_type": "markdown",
   "id": "c8d9536e",
   "metadata": {},
   "source": [
    "### Loading Data"
   ]
  },
  {
   "cell_type": "code",
   "execution_count": 5,
   "id": "e84108cf",
   "metadata": {},
   "outputs": [],
   "source": [
    "df1 = pd.read_excel(\"Training Set _5822 records 86 attributes including Class.xlsx\")"
   ]
  },
  {
   "cell_type": "code",
   "execution_count": 6,
   "id": "1e709097",
   "metadata": {},
   "outputs": [
    {
     "data": {
      "text/html": [
       "<div>\n",
       "<style scoped>\n",
       "    .dataframe tbody tr th:only-of-type {\n",
       "        vertical-align: middle;\n",
       "    }\n",
       "\n",
       "    .dataframe tbody tr th {\n",
       "        vertical-align: top;\n",
       "    }\n",
       "\n",
       "    .dataframe thead th {\n",
       "        text-align: right;\n",
       "    }\n",
       "</style>\n",
       "<table border=\"1\" class=\"dataframe\">\n",
       "  <thead>\n",
       "    <tr style=\"text-align: right;\">\n",
       "      <th></th>\n",
       "      <th>Unnamed: 0</th>\n",
       "      <th>MOSTYPE</th>\n",
       "      <th>MOSTYPE  Description</th>\n",
       "      <th>MAANTHUI</th>\n",
       "      <th>MGEMOMV</th>\n",
       "      <th>MGEMLEEF</th>\n",
       "      <th>MGEMLEEF  Description</th>\n",
       "      <th>MOSHOOFD</th>\n",
       "      <th>MOSHOOFD Description</th>\n",
       "      <th>MGODRK</th>\n",
       "      <th>...</th>\n",
       "      <th>APERSONG</th>\n",
       "      <th>AGEZONG</th>\n",
       "      <th>AWAOREG</th>\n",
       "      <th>ABRAND</th>\n",
       "      <th>AZEILPL</th>\n",
       "      <th>APLEZIER</th>\n",
       "      <th>AFIETS</th>\n",
       "      <th>AINBOED</th>\n",
       "      <th>ABYSTAND</th>\n",
       "      <th>CARAVAN</th>\n",
       "    </tr>\n",
       "  </thead>\n",
       "  <tbody>\n",
       "    <tr>\n",
       "      <th>0</th>\n",
       "      <td>NaN</td>\n",
       "      <td>33</td>\n",
       "      <td>MAUT2 2 cars</td>\n",
       "      <td>1</td>\n",
       "      <td>3</td>\n",
       "      <td>2</td>\n",
       "      <td>30-40 years</td>\n",
       "      <td>8</td>\n",
       "      <td>Family with grown ups</td>\n",
       "      <td>0</td>\n",
       "      <td>...</td>\n",
       "      <td>0</td>\n",
       "      <td>0</td>\n",
       "      <td>0</td>\n",
       "      <td>1</td>\n",
       "      <td>0</td>\n",
       "      <td>0</td>\n",
       "      <td>0</td>\n",
       "      <td>0</td>\n",
       "      <td>0</td>\n",
       "      <td>0</td>\n",
       "    </tr>\n",
       "    <tr>\n",
       "      <th>1</th>\n",
       "      <td>NaN</td>\n",
       "      <td>37</td>\n",
       "      <td>MINKM30 Income &lt; 30.000</td>\n",
       "      <td>1</td>\n",
       "      <td>2</td>\n",
       "      <td>2</td>\n",
       "      <td>30-40 years</td>\n",
       "      <td>8</td>\n",
       "      <td>Family with grown ups</td>\n",
       "      <td>1</td>\n",
       "      <td>...</td>\n",
       "      <td>0</td>\n",
       "      <td>0</td>\n",
       "      <td>0</td>\n",
       "      <td>1</td>\n",
       "      <td>0</td>\n",
       "      <td>0</td>\n",
       "      <td>0</td>\n",
       "      <td>0</td>\n",
       "      <td>0</td>\n",
       "      <td>0</td>\n",
       "    </tr>\n",
       "    <tr>\n",
       "      <th>2</th>\n",
       "      <td>NaN</td>\n",
       "      <td>37</td>\n",
       "      <td>MINKM30 Income &lt; 30.000</td>\n",
       "      <td>1</td>\n",
       "      <td>2</td>\n",
       "      <td>2</td>\n",
       "      <td>30-40 years</td>\n",
       "      <td>8</td>\n",
       "      <td>Family with grown ups</td>\n",
       "      <td>0</td>\n",
       "      <td>...</td>\n",
       "      <td>0</td>\n",
       "      <td>0</td>\n",
       "      <td>0</td>\n",
       "      <td>1</td>\n",
       "      <td>0</td>\n",
       "      <td>0</td>\n",
       "      <td>0</td>\n",
       "      <td>0</td>\n",
       "      <td>0</td>\n",
       "      <td>0</td>\n",
       "    </tr>\n",
       "    <tr>\n",
       "      <th>3</th>\n",
       "      <td>NaN</td>\n",
       "      <td>9</td>\n",
       "      <td>MGODGE No religion</td>\n",
       "      <td>1</td>\n",
       "      <td>3</td>\n",
       "      <td>3</td>\n",
       "      <td>40-50 years</td>\n",
       "      <td>3</td>\n",
       "      <td>Average Family</td>\n",
       "      <td>2</td>\n",
       "      <td>...</td>\n",
       "      <td>0</td>\n",
       "      <td>0</td>\n",
       "      <td>0</td>\n",
       "      <td>1</td>\n",
       "      <td>0</td>\n",
       "      <td>0</td>\n",
       "      <td>0</td>\n",
       "      <td>0</td>\n",
       "      <td>0</td>\n",
       "      <td>0</td>\n",
       "    </tr>\n",
       "    <tr>\n",
       "      <th>4</th>\n",
       "      <td>NaN</td>\n",
       "      <td>40</td>\n",
       "      <td>MINK7512 Income 75-122.000</td>\n",
       "      <td>1</td>\n",
       "      <td>4</td>\n",
       "      <td>2</td>\n",
       "      <td>30-40 years</td>\n",
       "      <td>10</td>\n",
       "      <td>Farmers</td>\n",
       "      <td>1</td>\n",
       "      <td>...</td>\n",
       "      <td>0</td>\n",
       "      <td>0</td>\n",
       "      <td>0</td>\n",
       "      <td>1</td>\n",
       "      <td>0</td>\n",
       "      <td>0</td>\n",
       "      <td>0</td>\n",
       "      <td>0</td>\n",
       "      <td>0</td>\n",
       "      <td>0</td>\n",
       "    </tr>\n",
       "  </tbody>\n",
       "</table>\n",
       "<p>5 rows × 92 columns</p>\n",
       "</div>"
      ],
      "text/plain": [
       "   Unnamed: 0  MOSTYPE         MOSTYPE  Description  MAANTHUI   MGEMOMV   \\\n",
       "0         NaN        33                MAUT2 2 cars          1         3   \n",
       "1         NaN        37     MINKM30 Income < 30.000          1         2   \n",
       "2         NaN        37     MINKM30 Income < 30.000          1         2   \n",
       "3         NaN         9          MGODGE No religion          1         3   \n",
       "4         NaN        40  MINK7512 Income 75-122.000          1         4   \n",
       "\n",
       "   MGEMLEEF  MGEMLEEF  Description  MOSHOOFD    MOSHOOFD Description  MGODRK   \\\n",
       "0          2           30-40 years          8  Family with grown ups        0   \n",
       "1          2           30-40 years          8  Family with grown ups        1   \n",
       "2          2           30-40 years          8  Family with grown ups        0   \n",
       "3          3           40-50 years          3         Average Family        2   \n",
       "4          2           30-40 years         10                Farmers        1   \n",
       "\n",
       "   ... APERSONG   AGEZONG   AWAOREG   ABRAND   AZEILPL   APLEZIER   AFIETS   \\\n",
       "0  ...         0         0         0        1         0          0        0   \n",
       "1  ...         0         0         0        1         0          0        0   \n",
       "2  ...         0         0         0        1         0          0        0   \n",
       "3  ...         0         0         0        1         0          0        0   \n",
       "4  ...         0         0         0        1         0          0        0   \n",
       "\n",
       "   AINBOED   ABYSTAND   CARAVAN   \n",
       "0         0          0         0  \n",
       "1         0          0         0  \n",
       "2         0          0         0  \n",
       "3         0          0         0  \n",
       "4         0          0         0  \n",
       "\n",
       "[5 rows x 92 columns]"
      ]
     },
     "execution_count": 6,
     "metadata": {},
     "output_type": "execute_result"
    }
   ],
   "source": [
    "#Checking top 5 rows of the loaded data\n",
    "df1.head()"
   ]
  },
  {
   "cell_type": "code",
   "execution_count": 7,
   "id": "57385434",
   "metadata": {},
   "outputs": [],
   "source": [
    "#dropping the unwanted first column from the dataset\n",
    "df1 = df1.drop(['Unnamed: 0'],axis = 1)"
   ]
  },
  {
   "cell_type": "code",
   "execution_count": 8,
   "id": "2b552d65",
   "metadata": {
    "scrolled": true
   },
   "outputs": [
    {
     "data": {
      "text/html": [
       "<div>\n",
       "<style scoped>\n",
       "    .dataframe tbody tr th:only-of-type {\n",
       "        vertical-align: middle;\n",
       "    }\n",
       "\n",
       "    .dataframe tbody tr th {\n",
       "        vertical-align: top;\n",
       "    }\n",
       "\n",
       "    .dataframe thead th {\n",
       "        text-align: right;\n",
       "    }\n",
       "</style>\n",
       "<table border=\"1\" class=\"dataframe\">\n",
       "  <thead>\n",
       "    <tr style=\"text-align: right;\">\n",
       "      <th></th>\n",
       "      <th>MOSTYPE</th>\n",
       "      <th>MOSTYPE  Description</th>\n",
       "      <th>MAANTHUI</th>\n",
       "      <th>MGEMOMV</th>\n",
       "      <th>MGEMLEEF</th>\n",
       "      <th>MGEMLEEF  Description</th>\n",
       "      <th>MOSHOOFD</th>\n",
       "      <th>MOSHOOFD Description</th>\n",
       "      <th>MGODRK</th>\n",
       "      <th>MGODRK Description</th>\n",
       "      <th>...</th>\n",
       "      <th>APERSONG</th>\n",
       "      <th>AGEZONG</th>\n",
       "      <th>AWAOREG</th>\n",
       "      <th>ABRAND</th>\n",
       "      <th>AZEILPL</th>\n",
       "      <th>APLEZIER</th>\n",
       "      <th>AFIETS</th>\n",
       "      <th>AINBOED</th>\n",
       "      <th>ABYSTAND</th>\n",
       "      <th>CARAVAN</th>\n",
       "    </tr>\n",
       "  </thead>\n",
       "  <tbody>\n",
       "    <tr>\n",
       "      <th>0</th>\n",
       "      <td>33</td>\n",
       "      <td>MAUT2 2 cars</td>\n",
       "      <td>1</td>\n",
       "      <td>3</td>\n",
       "      <td>2</td>\n",
       "      <td>30-40 years</td>\n",
       "      <td>8</td>\n",
       "      <td>Family with grown ups</td>\n",
       "      <td>0</td>\n",
       "      <td>0%</td>\n",
       "      <td>...</td>\n",
       "      <td>0</td>\n",
       "      <td>0</td>\n",
       "      <td>0</td>\n",
       "      <td>1</td>\n",
       "      <td>0</td>\n",
       "      <td>0</td>\n",
       "      <td>0</td>\n",
       "      <td>0</td>\n",
       "      <td>0</td>\n",
       "      <td>0</td>\n",
       "    </tr>\n",
       "    <tr>\n",
       "      <th>1</th>\n",
       "      <td>37</td>\n",
       "      <td>MINKM30 Income &lt; 30.000</td>\n",
       "      <td>1</td>\n",
       "      <td>2</td>\n",
       "      <td>2</td>\n",
       "      <td>30-40 years</td>\n",
       "      <td>8</td>\n",
       "      <td>Family with grown ups</td>\n",
       "      <td>1</td>\n",
       "      <td>1 - 10%</td>\n",
       "      <td>...</td>\n",
       "      <td>0</td>\n",
       "      <td>0</td>\n",
       "      <td>0</td>\n",
       "      <td>1</td>\n",
       "      <td>0</td>\n",
       "      <td>0</td>\n",
       "      <td>0</td>\n",
       "      <td>0</td>\n",
       "      <td>0</td>\n",
       "      <td>0</td>\n",
       "    </tr>\n",
       "  </tbody>\n",
       "</table>\n",
       "<p>2 rows × 91 columns</p>\n",
       "</div>"
      ],
      "text/plain": [
       "   MOSTYPE      MOSTYPE  Description  MAANTHUI   MGEMOMV   MGEMLEEF   \\\n",
       "0        33             MAUT2 2 cars          1         3          2   \n",
       "1        37  MINKM30 Income < 30.000          1         2          2   \n",
       "\n",
       "  MGEMLEEF  Description  MOSHOOFD    MOSHOOFD Description  MGODRK   \\\n",
       "0           30-40 years          8  Family with grown ups        0   \n",
       "1           30-40 years          8  Family with grown ups        1   \n",
       "\n",
       "  MGODRK Description  ...  APERSONG   AGEZONG   AWAOREG   ABRAND   AZEILPL   \\\n",
       "0                 0%  ...          0         0         0        1         0   \n",
       "1            1 - 10%  ...          0         0         0        1         0   \n",
       "\n",
       "   APLEZIER   AFIETS   AINBOED   ABYSTAND   CARAVAN   \n",
       "0          0        0         0          0         0  \n",
       "1          0        0         0          0         0  \n",
       "\n",
       "[2 rows x 91 columns]"
      ]
     },
     "execution_count": 8,
     "metadata": {},
     "output_type": "execute_result"
    }
   ],
   "source": [
    "df1.head(2)"
   ]
  },
  {
   "cell_type": "markdown",
   "id": "ab19b93d",
   "metadata": {},
   "source": [
    "### Data Exploration"
   ]
  },
  {
   "cell_type": "code",
   "execution_count": 9,
   "id": "65ba34fe",
   "metadata": {},
   "outputs": [
    {
     "data": {
      "text/plain": [
       "(5822, 91)"
      ]
     },
     "execution_count": 9,
     "metadata": {},
     "output_type": "execute_result"
    }
   ],
   "source": [
    "df1.shape"
   ]
  },
  {
   "cell_type": "markdown",
   "id": "98181444",
   "metadata": {},
   "source": [
    "There are 5,822 records in 91 columns"
   ]
  },
  {
   "cell_type": "markdown",
   "id": "e7a2a000",
   "metadata": {},
   "source": [
    "Checking for Null Values in the data"
   ]
  },
  {
   "cell_type": "code",
   "execution_count": 10,
   "id": "1b9e5e10",
   "metadata": {},
   "outputs": [
    {
     "data": {
      "text/html": [
       "<div>\n",
       "<style scoped>\n",
       "    .dataframe tbody tr th:only-of-type {\n",
       "        vertical-align: middle;\n",
       "    }\n",
       "\n",
       "    .dataframe tbody tr th {\n",
       "        vertical-align: top;\n",
       "    }\n",
       "\n",
       "    .dataframe thead th {\n",
       "        text-align: right;\n",
       "    }\n",
       "</style>\n",
       "<table border=\"1\" class=\"dataframe\">\n",
       "  <thead>\n",
       "    <tr style=\"text-align: right;\">\n",
       "      <th></th>\n",
       "      <th>MOSTYPE</th>\n",
       "      <th>MOSTYPE  Description</th>\n",
       "      <th>MAANTHUI</th>\n",
       "      <th>MGEMOMV</th>\n",
       "      <th>MGEMLEEF</th>\n",
       "      <th>MGEMLEEF  Description</th>\n",
       "      <th>MOSHOOFD</th>\n",
       "      <th>MOSHOOFD Description</th>\n",
       "      <th>MGODRK</th>\n",
       "      <th>MGODRK Description</th>\n",
       "      <th>...</th>\n",
       "      <th>APERSONG</th>\n",
       "      <th>AGEZONG</th>\n",
       "      <th>AWAOREG</th>\n",
       "      <th>ABRAND</th>\n",
       "      <th>AZEILPL</th>\n",
       "      <th>APLEZIER</th>\n",
       "      <th>AFIETS</th>\n",
       "      <th>AINBOED</th>\n",
       "      <th>ABYSTAND</th>\n",
       "      <th>CARAVAN</th>\n",
       "    </tr>\n",
       "  </thead>\n",
       "  <tbody>\n",
       "  </tbody>\n",
       "</table>\n",
       "<p>0 rows × 91 columns</p>\n",
       "</div>"
      ],
      "text/plain": [
       "Empty DataFrame\n",
       "Columns: [MOSTYPE , MOSTYPE  Description, MAANTHUI , MGEMOMV , MGEMLEEF , MGEMLEEF  Description, MOSHOOFD , MOSHOOFD Description, MGODRK , MGODRK Description, MGODPR , MGODOV , MGODGE , MRELGE , MRELSA , MRELOV , MFALLEEN , MFGEKIND , MFWEKIND , MOPLHOOG , MOPLMIDD , MOPLLAAG , MBERHOOG , MBERZELF , MBERBOER , MBERMIDD , MBERARBG , MBERARBO , MSKA , MSKB1 , MSKB2 , MSKC , MSKD , MHHUUR , MHKOOP , MAUT1 , MAUT2 , MAUT0 , MZFONDS , MZPART , MINKM30 , MINK3045 , MINK4575 , MINK7512 , MINK123M , MINKGEM , MKOOPKLA , PWAPART , PWAPART Description, PWABEDR , PWALAND , PPERSAUT , PBESAUT , PMOTSCO , PVRAAUT , PAANHANG , PTRACTOR , PWERKT , PBROM , PLEVEN , PPERSONG , PGEZONG , PWAOREG , PBRAND , PZEILPL , PPLEZIER , PFIETS , PINBOED , PBYSTAND , AWAPART , AWABEDR , AWALAND , APERSAUT , ABESAUT , AMOTSCO , AVRAAUT , AAANHANG , ATRACTOR , AWERKT , ABROM , ALEVEN , APERSONG , AGEZONG , AWAOREG , ABRAND , AZEILPL , APLEZIER , AFIETS , AINBOED , ABYSTAND , CARAVAN ]\n",
       "Index: []\n",
       "\n",
       "[0 rows x 91 columns]"
      ]
     },
     "execution_count": 10,
     "metadata": {},
     "output_type": "execute_result"
    }
   ],
   "source": [
    "df1[df1.isnull().any(axis=1)]"
   ]
  },
  {
   "cell_type": "markdown",
   "id": "8c35b74c",
   "metadata": {},
   "source": [
    "There are no Null values in the data !"
   ]
  },
  {
   "cell_type": "markdown",
   "id": "16997f7c",
   "metadata": {},
   "source": [
    "Also we can see categorical columns in the data. "
   ]
  },
  {
   "cell_type": "code",
   "execution_count": 11,
   "id": "9e1845e4",
   "metadata": {},
   "outputs": [],
   "source": [
    "#Finding the list of categorical columns\n",
    "cat_var1 = list(df1.filter(regex='Descrip'))"
   ]
  },
  {
   "cell_type": "code",
   "execution_count": 12,
   "id": "13d26c6e",
   "metadata": {
    "scrolled": true
   },
   "outputs": [
    {
     "data": {
      "text/plain": [
       "['MOSTYPE  Description',\n",
       " 'MGEMLEEF  Description',\n",
       " 'MOSHOOFD Description',\n",
       " 'MGODRK Description',\n",
       " 'PWAPART Description']"
      ]
     },
     "execution_count": 12,
     "metadata": {},
     "output_type": "execute_result"
    }
   ],
   "source": [
    "cat_var1"
   ]
  },
  {
   "cell_type": "markdown",
   "id": "03ee2c8a",
   "metadata": {},
   "source": [
    "There are a total of 5 categorical variables in the data (alongwith 5 categorical class variables associated with these)\n",
    "Let's see the unique count of values in the categorical variables"
   ]
  },
  {
   "cell_type": "code",
   "execution_count": 13,
   "id": "da27100a",
   "metadata": {
    "scrolled": true
   },
   "outputs": [
    {
     "data": {
      "text/plain": [
       "MOSTYPE  Description     40\n",
       "MGEMLEEF  Description     6\n",
       "MOSHOOFD Description     10\n",
       "MGODRK Description       10\n",
       "PWAPART Description       4\n",
       "dtype: int64"
      ]
     },
     "execution_count": 13,
     "metadata": {},
     "output_type": "execute_result"
    }
   ],
   "source": [
    "# Getting the unique count of values\n",
    "df1[cat_var1].nunique()"
   ]
  },
  {
   "cell_type": "markdown",
   "id": "057af0b4",
   "metadata": {},
   "source": [
    "Let's see how the categorical variables affect the output variable"
   ]
  },
  {
   "cell_type": "code",
   "execution_count": 41,
   "id": "c861940f",
   "metadata": {},
   "outputs": [
    {
     "data": {
      "image/png": "[encoded data removed]",
      "text/plain": [
       "<Figure size 720x360 with 1 Axes>"
      ]
     },
     "metadata": {
      "needs_background": "light"
     },
     "output_type": "display_data"
    }
   ],
   "source": [
    "#from matplotlib.pyplot import figure\n",
    "#%matplotlib inline\n",
    "\n",
    "table=pd.crosstab(df1['MOSTYPE  Description'],df1['CARAVAN '])\n",
    "table.div(table.sum(1).astype(float), axis=0).plot(kind='bar', stacked=True)\n",
    "plt.title('Stacked Bar Chart of Customer Subtype vs Purchase')\n",
    "plt.xlabel('Customer Subtype')\n",
    "plt.ylabel('Proportion of Customers')\n",
    "plt.rcParams[\"figure.figsize\"] = (5,10)\n",
    "\n",
    "plt.show()\n",
    "#plt.savefig('Customer Subtype vs Purchase')"
   ]
  },
  {
   "cell_type": "markdown",
   "id": "b9ffa0ee",
   "metadata": {},
   "source": [
    "As we can see from above graph, MOSTYPE seems a strong predictor for the outcome variable"
   ]
  },
  {
   "cell_type": "markdown",
   "id": "dfe032e0",
   "metadata": {},
   "source": [
    "We can also check the frequency distribution of the values in MOSTYPE"
   ]
  },
  {
   "cell_type": "code",
   "execution_count": 14,
   "id": "e219955e",
   "metadata": {},
   "outputs": [
    {
     "data": {
      "image/png": "[encoded data removed]",
      "text/plain": [
       "<Figure size 720x360 with 1 Axes>"
      ]
     },
     "metadata": {},
     "output_type": "display_data"
    }
   ],
   "source": [
    "MOSTYPE_count = df1['MOSTYPE  Description'].value_counts()\n",
    "sns.set(style=\"darkgrid\")\n",
    "sns.barplot(MOSTYPE_count.index, MOSTYPE_count.values,alpha = 0.9)\n",
    "plt.title('Frequency Distribution of MOSTYPE')\n",
    "plt.ylabel('Number of Occurrences', fontsize=10)\n",
    "plt.xlabel('MOSTYPE', fontsize=10)\n",
    "plt.xticks(rotation=90)\n",
    "plt.rcParams[\"figure.figsize\"] = (10,10)\n",
    "plt.show()"
   ]
  },
  {
   "cell_type": "markdown",
   "id": "58b84fbc",
   "metadata": {},
   "source": [
    "As can be seen from the above graph, most of the population are having 2 cars"
   ]
  },
  {
   "cell_type": "code",
   "execution_count": 18,
   "id": "74a5aaac",
   "metadata": {},
   "outputs": [
    {
     "data": {
      "image/png": "[encoded data removed]",
      "text/plain": [
       "<Figure size 720x360 with 1 Axes>"
      ]
     },
     "metadata": {},
     "output_type": "display_data"
    }
   ],
   "source": [
    "table=pd.crosstab(df1['MOSHOOFD Description'],df1['CARAVAN '])\n",
    "table.div(table.sum(1).astype(float), axis=0).plot(kind='bar', stacked=True)\n",
    "plt.title('Stacked Bar Chart of Customer Main Type vs Purchase')\n",
    "plt.xlabel('Customer Main Type')\n",
    "plt.ylabel('Proportion of Customers')\n",
    "plt.rcParams[\"figure.figsize\"] = (5,10)\n",
    "plt.show()"
   ]
  },
  {
   "cell_type": "markdown",
   "id": "c01166a6",
   "metadata": {},
   "source": [
    "Customer Main Type also looks a strong predictor"
   ]
  },
  {
   "cell_type": "code",
   "execution_count": 21,
   "id": "493e461e",
   "metadata": {},
   "outputs": [
    {
     "data": {
      "image/png": "[encoded data removed]",
      "text/plain": [
       "<Figure size 720x360 with 1 Axes>"
      ]
     },
     "metadata": {},
     "output_type": "display_data"
    }
   ],
   "source": [
    "table=pd.crosstab(df1['MGEMLEEF  Description'],df1['CARAVAN '])\n",
    "table.div(table.sum(1).astype(float), axis=0).plot(kind='bar', stacked=True)\n",
    "plt.title('Stacked Bar Chart of Avg Age vs Purchase')\n",
    "plt.xlabel('Avg Age')\n",
    "plt.ylabel('Proportion of Customers')\n",
    "plt.rcParams[\"figure.figsize\"] = (5,5)\n",
    "plt.show()"
   ]
  },
  {
   "cell_type": "markdown",
   "id": "10310f82",
   "metadata": {},
   "source": [
    "There are very few customers with Caravan from the age 20-30 & 70-80. Other age groups have same distribution."
   ]
  },
  {
   "cell_type": "code",
   "execution_count": 46,
   "id": "c2a4f58e",
   "metadata": {},
   "outputs": [
    {
     "data": {
      "image/png": "[encoded data removed]",
      "text/plain": [
       "<Figure size 720x360 with 1 Axes>"
      ]
     },
     "metadata": {},
     "output_type": "display_data"
    }
   ],
   "source": [
    "table=pd.crosstab(df1['MGODRK Description'],df1['CARAVAN '])\n",
    "table.div(table.sum(1).astype(float), axis=0).plot(kind='bar', stacked=True)\n",
    "plt.title('Stacked Bar Chart of Roman Catholic% vs Purchase')\n",
    "plt.xlabel('Roman Catholic%')\n",
    "plt.ylabel('Proportion of Customers')\n",
    "plt.rcParams[\"figure.figsize\"] = (10,5)\n",
    "plt.show()"
   ]
  },
  {
   "cell_type": "code",
   "execution_count": 47,
   "id": "6aa96007",
   "metadata": {},
   "outputs": [
    {
     "data": {
      "image/png": "[encoded data removed]",
      "text/plain": [
       "<Figure size 720x360 with 1 Axes>"
      ]
     },
     "metadata": {},
     "output_type": "display_data"
    }
   ],
   "source": [
    "table=pd.crosstab(df1['PWAPART Description'],df1['CARAVAN '])\n",
    "table.div(table.sum(1).astype(float), axis=0).plot(kind='bar', stacked=True)\n",
    "plt.title('Stacked Bar Chart of Private third party contribution vs Purchase')\n",
    "plt.xlabel('Private third party contribution')\n",
    "plt.ylabel('Proportion of Customers')\n",
    "plt.rcParams[\"figure.figsize\"] = (10,5)\n",
    "plt.show()"
   ]
  },
  {
   "cell_type": "markdown",
   "id": "f286ccf6",
   "metadata": {},
   "source": [
    "Private 3rd party contribution seems to be a strong predictor for outcome variable "
   ]
  },
  {
   "cell_type": "code",
   "execution_count": 30,
   "id": "b4587d1f",
   "metadata": {},
   "outputs": [
    {
     "data": {
      "image/png": "[encoded data removed]",
      "text/plain": [
       "<Figure size 720x360 with 1 Axes>"
      ]
     },
     "metadata": {},
     "output_type": "display_data"
    }
   ],
   "source": [
    "MOSHOOFD_count = df1['MOSHOOFD Description'].value_counts()\n",
    "sns.set(style=\"darkgrid\")\n",
    "sns.barplot(MOSHOOFD_count.index, MOSHOOFD_count.values, alpha=0.9)\n",
    "plt.title('Frequency Distribution of MOSHOOFD')\n",
    "plt.ylabel('Number of Occurrences', fontsize=10)\n",
    "plt.xlabel('MOSHOOFD', fontsize=10)\n",
    "plt.xticks(rotation=90)\n",
    "plt.rcParams[\"figure.figsize\"] = (10,5)\n",
    "plt.show()"
   ]
  },
  {
   "cell_type": "markdown",
   "id": "06a76fe4",
   "metadata": {},
   "source": [
    "Dropping the descriptive columns as they already have corresponding categorical class columns"
   ]
  },
  {
   "cell_type": "code",
   "execution_count": 14,
   "id": "ee961425",
   "metadata": {},
   "outputs": [],
   "source": [
    "df2 = df1[df1.columns.drop(list(df1.filter(regex='Descrip')))]"
   ]
  },
  {
   "cell_type": "code",
   "execution_count": 15,
   "id": "f0aafd53",
   "metadata": {},
   "outputs": [
    {
     "data": {
      "text/html": [
       "<div>\n",
       "<style scoped>\n",
       "    .dataframe tbody tr th:only-of-type {\n",
       "        vertical-align: middle;\n",
       "    }\n",
       "\n",
       "    .dataframe tbody tr th {\n",
       "        vertical-align: top;\n",
       "    }\n",
       "\n",
       "    .dataframe thead th {\n",
       "        text-align: right;\n",
       "    }\n",
       "</style>\n",
       "<table border=\"1\" class=\"dataframe\">\n",
       "  <thead>\n",
       "    <tr style=\"text-align: right;\">\n",
       "      <th></th>\n",
       "      <th>MOSTYPE</th>\n",
       "      <th>MAANTHUI</th>\n",
       "      <th>MGEMOMV</th>\n",
       "      <th>MGEMLEEF</th>\n",
       "      <th>MOSHOOFD</th>\n",
       "      <th>MGODRK</th>\n",
       "      <th>MGODPR</th>\n",
       "      <th>MGODOV</th>\n",
       "      <th>MGODGE</th>\n",
       "      <th>MRELGE</th>\n",
       "      <th>...</th>\n",
       "      <th>APERSONG</th>\n",
       "      <th>AGEZONG</th>\n",
       "      <th>AWAOREG</th>\n",
       "      <th>ABRAND</th>\n",
       "      <th>AZEILPL</th>\n",
       "      <th>APLEZIER</th>\n",
       "      <th>AFIETS</th>\n",
       "      <th>AINBOED</th>\n",
       "      <th>ABYSTAND</th>\n",
       "      <th>CARAVAN</th>\n",
       "    </tr>\n",
       "  </thead>\n",
       "  <tbody>\n",
       "    <tr>\n",
       "      <th>0</th>\n",
       "      <td>33</td>\n",
       "      <td>1</td>\n",
       "      <td>3</td>\n",
       "      <td>2</td>\n",
       "      <td>8</td>\n",
       "      <td>0</td>\n",
       "      <td>5</td>\n",
       "      <td>1</td>\n",
       "      <td>3</td>\n",
       "      <td>7</td>\n",
       "      <td>...</td>\n",
       "      <td>0</td>\n",
       "      <td>0</td>\n",
       "      <td>0</td>\n",
       "      <td>1</td>\n",
       "      <td>0</td>\n",
       "      <td>0</td>\n",
       "      <td>0</td>\n",
       "      <td>0</td>\n",
       "      <td>0</td>\n",
       "      <td>0</td>\n",
       "    </tr>\n",
       "    <tr>\n",
       "      <th>1</th>\n",
       "      <td>37</td>\n",
       "      <td>1</td>\n",
       "      <td>2</td>\n",
       "      <td>2</td>\n",
       "      <td>8</td>\n",
       "      <td>1</td>\n",
       "      <td>4</td>\n",
       "      <td>1</td>\n",
       "      <td>4</td>\n",
       "      <td>6</td>\n",
       "      <td>...</td>\n",
       "      <td>0</td>\n",
       "      <td>0</td>\n",
       "      <td>0</td>\n",
       "      <td>1</td>\n",
       "      <td>0</td>\n",
       "      <td>0</td>\n",
       "      <td>0</td>\n",
       "      <td>0</td>\n",
       "      <td>0</td>\n",
       "      <td>0</td>\n",
       "    </tr>\n",
       "    <tr>\n",
       "      <th>2</th>\n",
       "      <td>37</td>\n",
       "      <td>1</td>\n",
       "      <td>2</td>\n",
       "      <td>2</td>\n",
       "      <td>8</td>\n",
       "      <td>0</td>\n",
       "      <td>4</td>\n",
       "      <td>2</td>\n",
       "      <td>4</td>\n",
       "      <td>3</td>\n",
       "      <td>...</td>\n",
       "      <td>0</td>\n",
       "      <td>0</td>\n",
       "      <td>0</td>\n",
       "      <td>1</td>\n",
       "      <td>0</td>\n",
       "      <td>0</td>\n",
       "      <td>0</td>\n",
       "      <td>0</td>\n",
       "      <td>0</td>\n",
       "      <td>0</td>\n",
       "    </tr>\n",
       "    <tr>\n",
       "      <th>3</th>\n",
       "      <td>9</td>\n",
       "      <td>1</td>\n",
       "      <td>3</td>\n",
       "      <td>3</td>\n",
       "      <td>3</td>\n",
       "      <td>2</td>\n",
       "      <td>3</td>\n",
       "      <td>2</td>\n",
       "      <td>4</td>\n",
       "      <td>5</td>\n",
       "      <td>...</td>\n",
       "      <td>0</td>\n",
       "      <td>0</td>\n",
       "      <td>0</td>\n",
       "      <td>1</td>\n",
       "      <td>0</td>\n",
       "      <td>0</td>\n",
       "      <td>0</td>\n",
       "      <td>0</td>\n",
       "      <td>0</td>\n",
       "      <td>0</td>\n",
       "    </tr>\n",
       "    <tr>\n",
       "      <th>4</th>\n",
       "      <td>40</td>\n",
       "      <td>1</td>\n",
       "      <td>4</td>\n",
       "      <td>2</td>\n",
       "      <td>10</td>\n",
       "      <td>1</td>\n",
       "      <td>4</td>\n",
       "      <td>1</td>\n",
       "      <td>4</td>\n",
       "      <td>7</td>\n",
       "      <td>...</td>\n",
       "      <td>0</td>\n",
       "      <td>0</td>\n",
       "      <td>0</td>\n",
       "      <td>1</td>\n",
       "      <td>0</td>\n",
       "      <td>0</td>\n",
       "      <td>0</td>\n",
       "      <td>0</td>\n",
       "      <td>0</td>\n",
       "      <td>0</td>\n",
       "    </tr>\n",
       "  </tbody>\n",
       "</table>\n",
       "<p>5 rows × 86 columns</p>\n",
       "</div>"
      ],
      "text/plain": [
       "   MOSTYPE   MAANTHUI   MGEMOMV   MGEMLEEF   MOSHOOFD   MGODRK   MGODPR   \\\n",
       "0        33          1         3          2          8        0        5   \n",
       "1        37          1         2          2          8        1        4   \n",
       "2        37          1         2          2          8        0        4   \n",
       "3         9          1         3          3          3        2        3   \n",
       "4        40          1         4          2         10        1        4   \n",
       "\n",
       "   MGODOV   MGODGE   MRELGE   ...  APERSONG   AGEZONG   AWAOREG   ABRAND   \\\n",
       "0        1        3        7  ...          0         0         0        1   \n",
       "1        1        4        6  ...          0         0         0        1   \n",
       "2        2        4        3  ...          0         0         0        1   \n",
       "3        2        4        5  ...          0         0         0        1   \n",
       "4        1        4        7  ...          0         0         0        1   \n",
       "\n",
       "   AZEILPL   APLEZIER   AFIETS   AINBOED   ABYSTAND   CARAVAN   \n",
       "0         0          0        0         0          0         0  \n",
       "1         0          0        0         0          0         0  \n",
       "2         0          0        0         0          0         0  \n",
       "3         0          0        0         0          0         0  \n",
       "4         0          0        0         0          0         0  \n",
       "\n",
       "[5 rows x 86 columns]"
      ]
     },
     "execution_count": 15,
     "metadata": {},
     "output_type": "execute_result"
    }
   ],
   "source": [
    "df2.head()"
   ]
  },
  {
   "cell_type": "code",
   "execution_count": 16,
   "id": "9f2761c9",
   "metadata": {},
   "outputs": [
    {
     "data": {
      "text/plain": [
       "(5822, 91)"
      ]
     },
     "execution_count": 16,
     "metadata": {},
     "output_type": "execute_result"
    }
   ],
   "source": [
    "df1.shape"
   ]
  },
  {
   "cell_type": "code",
   "execution_count": 17,
   "id": "9144946f",
   "metadata": {},
   "outputs": [
    {
     "data": {
      "text/plain": [
       "(5822, 86)"
      ]
     },
     "execution_count": 17,
     "metadata": {},
     "output_type": "execute_result"
    }
   ],
   "source": [
    "df2.shape"
   ]
  },
  {
   "cell_type": "markdown",
   "id": "84b137f1",
   "metadata": {},
   "source": [
    "Total 5 Descriptive columns deleted"
   ]
  },
  {
   "cell_type": "markdown",
   "id": "ef9b92e3",
   "metadata": {},
   "source": [
    "### Seperating Categorical and continuous variables"
   ]
  },
  {
   "cell_type": "code",
   "execution_count": 18,
   "id": "a061b74d",
   "metadata": {},
   "outputs": [
    {
     "data": {
      "text/html": [
       "<div>\n",
       "<style scoped>\n",
       "    .dataframe tbody tr th:only-of-type {\n",
       "        vertical-align: middle;\n",
       "    }\n",
       "\n",
       "    .dataframe tbody tr th {\n",
       "        vertical-align: top;\n",
       "    }\n",
       "\n",
       "    .dataframe thead th {\n",
       "        text-align: right;\n",
       "    }\n",
       "</style>\n",
       "<table border=\"1\" class=\"dataframe\">\n",
       "  <thead>\n",
       "    <tr style=\"text-align: right;\">\n",
       "      <th></th>\n",
       "      <th>MOSTYPE</th>\n",
       "      <th>MGEMLEEF</th>\n",
       "      <th>MOSHOOFD</th>\n",
       "      <th>MGODRK</th>\n",
       "      <th>PWAPART</th>\n",
       "    </tr>\n",
       "  </thead>\n",
       "  <tbody>\n",
       "    <tr>\n",
       "      <th>0</th>\n",
       "      <td>33</td>\n",
       "      <td>2</td>\n",
       "      <td>8</td>\n",
       "      <td>0</td>\n",
       "      <td>0</td>\n",
       "    </tr>\n",
       "    <tr>\n",
       "      <th>1</th>\n",
       "      <td>37</td>\n",
       "      <td>2</td>\n",
       "      <td>8</td>\n",
       "      <td>1</td>\n",
       "      <td>2</td>\n",
       "    </tr>\n",
       "    <tr>\n",
       "      <th>2</th>\n",
       "      <td>37</td>\n",
       "      <td>2</td>\n",
       "      <td>8</td>\n",
       "      <td>0</td>\n",
       "      <td>2</td>\n",
       "    </tr>\n",
       "    <tr>\n",
       "      <th>3</th>\n",
       "      <td>9</td>\n",
       "      <td>3</td>\n",
       "      <td>3</td>\n",
       "      <td>2</td>\n",
       "      <td>0</td>\n",
       "    </tr>\n",
       "    <tr>\n",
       "      <th>4</th>\n",
       "      <td>40</td>\n",
       "      <td>2</td>\n",
       "      <td>10</td>\n",
       "      <td>1</td>\n",
       "      <td>0</td>\n",
       "    </tr>\n",
       "  </tbody>\n",
       "</table>\n",
       "</div>"
      ],
      "text/plain": [
       "   MOSTYPE   MGEMLEEF   MOSHOOFD   MGODRK   PWAPART \n",
       "0        33          2          8        0         0\n",
       "1        37          2          8        1         2\n",
       "2        37          2          8        0         2\n",
       "3         9          3          3        2         0\n",
       "4        40          2         10        1         0"
      ]
     },
     "execution_count": 18,
     "metadata": {},
     "output_type": "execute_result"
    }
   ],
   "source": [
    "categorical_features = ['MOSTYPE ','MGEMLEEF ','MOSHOOFD ','MGODRK ','PWAPART ']\n",
    "df_cat = df2[categorical_features]\n",
    "df_cat.head()"
   ]
  },
  {
   "cell_type": "markdown",
   "id": "a82ca1aa",
   "metadata": {},
   "source": [
    "Getting the continuous variables"
   ]
  },
  {
   "cell_type": "code",
   "execution_count": 19,
   "id": "f80f5d01",
   "metadata": {},
   "outputs": [
    {
     "data": {
      "text/html": [
       "<div>\n",
       "<style scoped>\n",
       "    .dataframe tbody tr th:only-of-type {\n",
       "        vertical-align: middle;\n",
       "    }\n",
       "\n",
       "    .dataframe tbody tr th {\n",
       "        vertical-align: top;\n",
       "    }\n",
       "\n",
       "    .dataframe thead th {\n",
       "        text-align: right;\n",
       "    }\n",
       "</style>\n",
       "<table border=\"1\" class=\"dataframe\">\n",
       "  <thead>\n",
       "    <tr style=\"text-align: right;\">\n",
       "      <th></th>\n",
       "      <th>MAANTHUI</th>\n",
       "      <th>MGEMOMV</th>\n",
       "      <th>MGODPR</th>\n",
       "      <th>MGODOV</th>\n",
       "      <th>MGODGE</th>\n",
       "      <th>MRELGE</th>\n",
       "      <th>MRELSA</th>\n",
       "      <th>MRELOV</th>\n",
       "      <th>MFALLEEN</th>\n",
       "      <th>MFGEKIND</th>\n",
       "      <th>...</th>\n",
       "      <th>ALEVEN</th>\n",
       "      <th>APERSONG</th>\n",
       "      <th>AGEZONG</th>\n",
       "      <th>AWAOREG</th>\n",
       "      <th>ABRAND</th>\n",
       "      <th>AZEILPL</th>\n",
       "      <th>APLEZIER</th>\n",
       "      <th>AFIETS</th>\n",
       "      <th>AINBOED</th>\n",
       "      <th>ABYSTAND</th>\n",
       "    </tr>\n",
       "  </thead>\n",
       "  <tbody>\n",
       "    <tr>\n",
       "      <th>0</th>\n",
       "      <td>1</td>\n",
       "      <td>3</td>\n",
       "      <td>5</td>\n",
       "      <td>1</td>\n",
       "      <td>3</td>\n",
       "      <td>7</td>\n",
       "      <td>0</td>\n",
       "      <td>2</td>\n",
       "      <td>1</td>\n",
       "      <td>2</td>\n",
       "      <td>...</td>\n",
       "      <td>0</td>\n",
       "      <td>0</td>\n",
       "      <td>0</td>\n",
       "      <td>0</td>\n",
       "      <td>1</td>\n",
       "      <td>0</td>\n",
       "      <td>0</td>\n",
       "      <td>0</td>\n",
       "      <td>0</td>\n",
       "      <td>0</td>\n",
       "    </tr>\n",
       "    <tr>\n",
       "      <th>1</th>\n",
       "      <td>1</td>\n",
       "      <td>2</td>\n",
       "      <td>4</td>\n",
       "      <td>1</td>\n",
       "      <td>4</td>\n",
       "      <td>6</td>\n",
       "      <td>2</td>\n",
       "      <td>2</td>\n",
       "      <td>0</td>\n",
       "      <td>4</td>\n",
       "      <td>...</td>\n",
       "      <td>0</td>\n",
       "      <td>0</td>\n",
       "      <td>0</td>\n",
       "      <td>0</td>\n",
       "      <td>1</td>\n",
       "      <td>0</td>\n",
       "      <td>0</td>\n",
       "      <td>0</td>\n",
       "      <td>0</td>\n",
       "      <td>0</td>\n",
       "    </tr>\n",
       "    <tr>\n",
       "      <th>2</th>\n",
       "      <td>1</td>\n",
       "      <td>2</td>\n",
       "      <td>4</td>\n",
       "      <td>2</td>\n",
       "      <td>4</td>\n",
       "      <td>3</td>\n",
       "      <td>2</td>\n",
       "      <td>4</td>\n",
       "      <td>4</td>\n",
       "      <td>4</td>\n",
       "      <td>...</td>\n",
       "      <td>0</td>\n",
       "      <td>0</td>\n",
       "      <td>0</td>\n",
       "      <td>0</td>\n",
       "      <td>1</td>\n",
       "      <td>0</td>\n",
       "      <td>0</td>\n",
       "      <td>0</td>\n",
       "      <td>0</td>\n",
       "      <td>0</td>\n",
       "    </tr>\n",
       "    <tr>\n",
       "      <th>3</th>\n",
       "      <td>1</td>\n",
       "      <td>3</td>\n",
       "      <td>3</td>\n",
       "      <td>2</td>\n",
       "      <td>4</td>\n",
       "      <td>5</td>\n",
       "      <td>2</td>\n",
       "      <td>2</td>\n",
       "      <td>2</td>\n",
       "      <td>3</td>\n",
       "      <td>...</td>\n",
       "      <td>0</td>\n",
       "      <td>0</td>\n",
       "      <td>0</td>\n",
       "      <td>0</td>\n",
       "      <td>1</td>\n",
       "      <td>0</td>\n",
       "      <td>0</td>\n",
       "      <td>0</td>\n",
       "      <td>0</td>\n",
       "      <td>0</td>\n",
       "    </tr>\n",
       "    <tr>\n",
       "      <th>4</th>\n",
       "      <td>1</td>\n",
       "      <td>4</td>\n",
       "      <td>4</td>\n",
       "      <td>1</td>\n",
       "      <td>4</td>\n",
       "      <td>7</td>\n",
       "      <td>1</td>\n",
       "      <td>2</td>\n",
       "      <td>2</td>\n",
       "      <td>4</td>\n",
       "      <td>...</td>\n",
       "      <td>0</td>\n",
       "      <td>0</td>\n",
       "      <td>0</td>\n",
       "      <td>0</td>\n",
       "      <td>1</td>\n",
       "      <td>0</td>\n",
       "      <td>0</td>\n",
       "      <td>0</td>\n",
       "      <td>0</td>\n",
       "      <td>0</td>\n",
       "    </tr>\n",
       "  </tbody>\n",
       "</table>\n",
       "<p>5 rows × 80 columns</p>\n",
       "</div>"
      ],
      "text/plain": [
       "   MAANTHUI   MGEMOMV   MGODPR   MGODOV   MGODGE   MRELGE   MRELSA   MRELOV   \\\n",
       "0          1         3        5        1        3        7        0        2   \n",
       "1          1         2        4        1        4        6        2        2   \n",
       "2          1         2        4        2        4        3        2        4   \n",
       "3          1         3        3        2        4        5        2        2   \n",
       "4          1         4        4        1        4        7        1        2   \n",
       "\n",
       "   MFALLEEN   MFGEKIND   ...  ALEVEN   APERSONG   AGEZONG   AWAOREG   ABRAND   \\\n",
       "0          1          2  ...        0          0         0         0        1   \n",
       "1          0          4  ...        0          0         0         0        1   \n",
       "2          4          4  ...        0          0         0         0        1   \n",
       "3          2          3  ...        0          0         0         0        1   \n",
       "4          2          4  ...        0          0         0         0        1   \n",
       "\n",
       "   AZEILPL   APLEZIER   AFIETS   AINBOED   ABYSTAND   \n",
       "0         0          0        0         0          0  \n",
       "1         0          0        0         0          0  \n",
       "2         0          0        0         0          0  \n",
       "3         0          0        0         0          0  \n",
       "4         0          0        0         0          0  \n",
       "\n",
       "[5 rows x 80 columns]"
      ]
     },
     "execution_count": 19,
     "metadata": {},
     "output_type": "execute_result"
    }
   ],
   "source": [
    "output_column = ['CARAVAN ']\n",
    "df_cont1 = df2.drop(categorical_features,axis = 1)\n",
    "df_cont = df_cont1.drop(output_column,axis = 1)\n",
    "df_cont.head()"
   ]
  },
  {
   "cell_type": "markdown",
   "id": "4e325fad",
   "metadata": {},
   "source": [
    "Checking the statistical information of the continuous variables"
   ]
  },
  {
   "cell_type": "code",
   "execution_count": 20,
   "id": "6649aad4",
   "metadata": {},
   "outputs": [
    {
     "data": {
      "text/html": [
       "<div>\n",
       "<style scoped>\n",
       "    .dataframe tbody tr th:only-of-type {\n",
       "        vertical-align: middle;\n",
       "    }\n",
       "\n",
       "    .dataframe tbody tr th {\n",
       "        vertical-align: top;\n",
       "    }\n",
       "\n",
       "    .dataframe thead th {\n",
       "        text-align: right;\n",
       "    }\n",
       "</style>\n",
       "<table border=\"1\" class=\"dataframe\">\n",
       "  <thead>\n",
       "    <tr style=\"text-align: right;\">\n",
       "      <th></th>\n",
       "      <th>count</th>\n",
       "      <th>mean</th>\n",
       "      <th>std</th>\n",
       "      <th>min</th>\n",
       "      <th>25%</th>\n",
       "      <th>50%</th>\n",
       "      <th>75%</th>\n",
       "      <th>max</th>\n",
       "    </tr>\n",
       "  </thead>\n",
       "  <tbody>\n",
       "    <tr>\n",
       "      <th>MAANTHUI</th>\n",
       "      <td>5822.0</td>\n",
       "      <td>1.110615</td>\n",
       "      <td>0.405842</td>\n",
       "      <td>1.0</td>\n",
       "      <td>1.0</td>\n",
       "      <td>1.0</td>\n",
       "      <td>1.0</td>\n",
       "      <td>10.0</td>\n",
       "    </tr>\n",
       "    <tr>\n",
       "      <th>MGEMOMV</th>\n",
       "      <td>5822.0</td>\n",
       "      <td>2.678805</td>\n",
       "      <td>0.789835</td>\n",
       "      <td>1.0</td>\n",
       "      <td>2.0</td>\n",
       "      <td>3.0</td>\n",
       "      <td>3.0</td>\n",
       "      <td>5.0</td>\n",
       "    </tr>\n",
       "    <tr>\n",
       "      <th>MGODPR</th>\n",
       "      <td>5822.0</td>\n",
       "      <td>4.626932</td>\n",
       "      <td>1.715843</td>\n",
       "      <td>0.0</td>\n",
       "      <td>4.0</td>\n",
       "      <td>5.0</td>\n",
       "      <td>6.0</td>\n",
       "      <td>9.0</td>\n",
       "    </tr>\n",
       "    <tr>\n",
       "      <th>MGODOV</th>\n",
       "      <td>5822.0</td>\n",
       "      <td>1.069907</td>\n",
       "      <td>1.017503</td>\n",
       "      <td>0.0</td>\n",
       "      <td>0.0</td>\n",
       "      <td>1.0</td>\n",
       "      <td>2.0</td>\n",
       "      <td>5.0</td>\n",
       "    </tr>\n",
       "    <tr>\n",
       "      <th>MGODGE</th>\n",
       "      <td>5822.0</td>\n",
       "      <td>3.258502</td>\n",
       "      <td>1.597647</td>\n",
       "      <td>0.0</td>\n",
       "      <td>2.0</td>\n",
       "      <td>3.0</td>\n",
       "      <td>4.0</td>\n",
       "      <td>9.0</td>\n",
       "    </tr>\n",
       "    <tr>\n",
       "      <th>...</th>\n",
       "      <td>...</td>\n",
       "      <td>...</td>\n",
       "      <td>...</td>\n",
       "      <td>...</td>\n",
       "      <td>...</td>\n",
       "      <td>...</td>\n",
       "      <td>...</td>\n",
       "      <td>...</td>\n",
       "    </tr>\n",
       "    <tr>\n",
       "      <th>AZEILPL</th>\n",
       "      <td>5822.0</td>\n",
       "      <td>0.000515</td>\n",
       "      <td>0.022696</td>\n",
       "      <td>0.0</td>\n",
       "      <td>0.0</td>\n",
       "      <td>0.0</td>\n",
       "      <td>0.0</td>\n",
       "      <td>1.0</td>\n",
       "    </tr>\n",
       "    <tr>\n",
       "      <th>APLEZIER</th>\n",
       "      <td>5822.0</td>\n",
       "      <td>0.006012</td>\n",
       "      <td>0.081632</td>\n",
       "      <td>0.0</td>\n",
       "      <td>0.0</td>\n",
       "      <td>0.0</td>\n",
       "      <td>0.0</td>\n",
       "      <td>2.0</td>\n",
       "    </tr>\n",
       "    <tr>\n",
       "      <th>AFIETS</th>\n",
       "      <td>5822.0</td>\n",
       "      <td>0.031776</td>\n",
       "      <td>0.210986</td>\n",
       "      <td>0.0</td>\n",
       "      <td>0.0</td>\n",
       "      <td>0.0</td>\n",
       "      <td>0.0</td>\n",
       "      <td>3.0</td>\n",
       "    </tr>\n",
       "    <tr>\n",
       "      <th>AINBOED</th>\n",
       "      <td>5822.0</td>\n",
       "      <td>0.007901</td>\n",
       "      <td>0.090463</td>\n",
       "      <td>0.0</td>\n",
       "      <td>0.0</td>\n",
       "      <td>0.0</td>\n",
       "      <td>0.0</td>\n",
       "      <td>2.0</td>\n",
       "    </tr>\n",
       "    <tr>\n",
       "      <th>ABYSTAND</th>\n",
       "      <td>5822.0</td>\n",
       "      <td>0.014256</td>\n",
       "      <td>0.119996</td>\n",
       "      <td>0.0</td>\n",
       "      <td>0.0</td>\n",
       "      <td>0.0</td>\n",
       "      <td>0.0</td>\n",
       "      <td>2.0</td>\n",
       "    </tr>\n",
       "  </tbody>\n",
       "</table>\n",
       "<p>80 rows × 8 columns</p>\n",
       "</div>"
      ],
      "text/plain": [
       "            count      mean       std  min  25%  50%  75%   max\n",
       "MAANTHUI   5822.0  1.110615  0.405842  1.0  1.0  1.0  1.0  10.0\n",
       "MGEMOMV    5822.0  2.678805  0.789835  1.0  2.0  3.0  3.0   5.0\n",
       "MGODPR     5822.0  4.626932  1.715843  0.0  4.0  5.0  6.0   9.0\n",
       "MGODOV     5822.0  1.069907  1.017503  0.0  0.0  1.0  2.0   5.0\n",
       "MGODGE     5822.0  3.258502  1.597647  0.0  2.0  3.0  4.0   9.0\n",
       "...           ...       ...       ...  ...  ...  ...  ...   ...\n",
       "AZEILPL    5822.0  0.000515  0.022696  0.0  0.0  0.0  0.0   1.0\n",
       "APLEZIER   5822.0  0.006012  0.081632  0.0  0.0  0.0  0.0   2.0\n",
       "AFIETS     5822.0  0.031776  0.210986  0.0  0.0  0.0  0.0   3.0\n",
       "AINBOED    5822.0  0.007901  0.090463  0.0  0.0  0.0  0.0   2.0\n",
       "ABYSTAND   5822.0  0.014256  0.119996  0.0  0.0  0.0  0.0   2.0\n",
       "\n",
       "[80 rows x 8 columns]"
      ]
     },
     "execution_count": 20,
     "metadata": {},
     "output_type": "execute_result"
    }
   ],
   "source": [
    "check = df_cont.describe().T\n",
    "check"
   ]
  },
  {
   "cell_type": "code",
   "execution_count": 21,
   "id": "ceb326a8",
   "metadata": {},
   "outputs": [
    {
     "data": {
      "text/html": [
       "<div>\n",
       "<style scoped>\n",
       "    .dataframe tbody tr th:only-of-type {\n",
       "        vertical-align: middle;\n",
       "    }\n",
       "\n",
       "    .dataframe tbody tr th {\n",
       "        vertical-align: top;\n",
       "    }\n",
       "\n",
       "    .dataframe thead th {\n",
       "        text-align: right;\n",
       "    }\n",
       "</style>\n",
       "<table border=\"1\" class=\"dataframe\">\n",
       "  <thead>\n",
       "    <tr style=\"text-align: right;\">\n",
       "      <th></th>\n",
       "      <th>count</th>\n",
       "      <th>mean</th>\n",
       "      <th>std</th>\n",
       "      <th>min</th>\n",
       "      <th>25%</th>\n",
       "      <th>50%</th>\n",
       "      <th>75%</th>\n",
       "      <th>max</th>\n",
       "    </tr>\n",
       "  </thead>\n",
       "  <tbody>\n",
       "  </tbody>\n",
       "</table>\n",
       "</div>"
      ],
      "text/plain": [
       "Empty DataFrame\n",
       "Columns: [count, mean, std, min, 25%, 50%, 75%, max]\n",
       "Index: []"
      ]
     },
     "execution_count": 21,
     "metadata": {},
     "output_type": "execute_result"
    }
   ],
   "source": [
    "check[(check['max']==0)]"
   ]
  },
  {
   "cell_type": "markdown",
   "id": "d30f7be4",
   "metadata": {},
   "source": [
    "No columns with 0 values as well !"
   ]
  },
  {
   "cell_type": "markdown",
   "id": "aa9b5bba",
   "metadata": {},
   "source": [
    "### Checking for multicollinearity with correlation matrix among independent continuous variables"
   ]
  },
  {
   "cell_type": "markdown",
   "id": "0a0526bf",
   "metadata": {},
   "source": [
    "Multicollinearity happens when one predictor variable in a multiple regression model can be linearly predicted from the others with a high degree of accuracy. This can lead to skewed or misleading results. Logistic Regression or Linear Regression are not immune to that problem and we should fix it before training the model."
   ]
  },
  {
   "cell_type": "code",
   "execution_count": 22,
   "id": "50ac2be4",
   "metadata": {},
   "outputs": [],
   "source": [
    "corrM = df_cont.corr()"
   ]
  },
  {
   "cell_type": "code",
   "execution_count": 23,
   "id": "c9145277",
   "metadata": {},
   "outputs": [
    {
     "data": {
      "text/html": [
       "<div>\n",
       "<style scoped>\n",
       "    .dataframe tbody tr th:only-of-type {\n",
       "        vertical-align: middle;\n",
       "    }\n",
       "\n",
       "    .dataframe tbody tr th {\n",
       "        vertical-align: top;\n",
       "    }\n",
       "\n",
       "    .dataframe thead th {\n",
       "        text-align: right;\n",
       "    }\n",
       "</style>\n",
       "<table border=\"1\" class=\"dataframe\">\n",
       "  <thead>\n",
       "    <tr style=\"text-align: right;\">\n",
       "      <th></th>\n",
       "      <th>MAANTHUI</th>\n",
       "      <th>MGEMOMV</th>\n",
       "      <th>MGODPR</th>\n",
       "      <th>MGODOV</th>\n",
       "      <th>MGODGE</th>\n",
       "      <th>MRELGE</th>\n",
       "      <th>MRELSA</th>\n",
       "      <th>MRELOV</th>\n",
       "      <th>MFALLEEN</th>\n",
       "      <th>MFGEKIND</th>\n",
       "      <th>...</th>\n",
       "      <th>ALEVEN</th>\n",
       "      <th>APERSONG</th>\n",
       "      <th>AGEZONG</th>\n",
       "      <th>AWAOREG</th>\n",
       "      <th>ABRAND</th>\n",
       "      <th>AZEILPL</th>\n",
       "      <th>APLEZIER</th>\n",
       "      <th>AFIETS</th>\n",
       "      <th>AINBOED</th>\n",
       "      <th>ABYSTAND</th>\n",
       "    </tr>\n",
       "  </thead>\n",
       "  <tbody>\n",
       "    <tr>\n",
       "      <th>MAANTHUI</th>\n",
       "      <td>1.000000</td>\n",
       "      <td>0.010102</td>\n",
       "      <td>-0.024360</td>\n",
       "      <td>0.012056</td>\n",
       "      <td>0.020540</td>\n",
       "      <td>0.023025</td>\n",
       "      <td>-0.038566</td>\n",
       "      <td>-0.012544</td>\n",
       "      <td>0.032535</td>\n",
       "      <td>-0.082919</td>\n",
       "      <td>...</td>\n",
       "      <td>0.020926</td>\n",
       "      <td>0.003321</td>\n",
       "      <td>0.009444</td>\n",
       "      <td>-0.016333</td>\n",
       "      <td>0.000655</td>\n",
       "      <td>-0.006189</td>\n",
       "      <td>0.000666</td>\n",
       "      <td>-0.020993</td>\n",
       "      <td>0.018304</td>\n",
       "      <td>-0.004166</td>\n",
       "    </tr>\n",
       "    <tr>\n",
       "      <th>MGEMOMV</th>\n",
       "      <td>0.010102</td>\n",
       "      <td>1.000000</td>\n",
       "      <td>0.049356</td>\n",
       "      <td>-0.108650</td>\n",
       "      <td>-0.005527</td>\n",
       "      <td>0.534798</td>\n",
       "      <td>-0.175586</td>\n",
       "      <td>-0.500735</td>\n",
       "      <td>-0.659553</td>\n",
       "      <td>-0.315960</td>\n",
       "      <td>...</td>\n",
       "      <td>0.017428</td>\n",
       "      <td>-0.000128</td>\n",
       "      <td>0.016760</td>\n",
       "      <td>0.018749</td>\n",
       "      <td>-0.009269</td>\n",
       "      <td>0.009234</td>\n",
       "      <td>0.000644</td>\n",
       "      <td>0.030330</td>\n",
       "      <td>0.025907</td>\n",
       "      <td>0.028384</td>\n",
       "    </tr>\n",
       "    <tr>\n",
       "      <th>MGODPR</th>\n",
       "      <td>-0.024360</td>\n",
       "      <td>0.049356</td>\n",
       "      <td>1.000000</td>\n",
       "      <td>-0.317549</td>\n",
       "      <td>-0.741895</td>\n",
       "      <td>0.147256</td>\n",
       "      <td>-0.211031</td>\n",
       "      <td>-0.084051</td>\n",
       "      <td>-0.115922</td>\n",
       "      <td>0.066457</td>\n",
       "      <td>...</td>\n",
       "      <td>-0.018459</td>\n",
       "      <td>-0.014355</td>\n",
       "      <td>0.003949</td>\n",
       "      <td>0.003975</td>\n",
       "      <td>0.046352</td>\n",
       "      <td>0.013760</td>\n",
       "      <td>0.018468</td>\n",
       "      <td>0.001906</td>\n",
       "      <td>0.002392</td>\n",
       "      <td>0.016658</td>\n",
       "    </tr>\n",
       "    <tr>\n",
       "      <th>MGODOV</th>\n",
       "      <td>0.012056</td>\n",
       "      <td>-0.108650</td>\n",
       "      <td>-0.317549</td>\n",
       "      <td>1.000000</td>\n",
       "      <td>-0.139306</td>\n",
       "      <td>-0.125703</td>\n",
       "      <td>0.111762</td>\n",
       "      <td>0.105340</td>\n",
       "      <td>0.122198</td>\n",
       "      <td>0.022851</td>\n",
       "      <td>...</td>\n",
       "      <td>0.003050</td>\n",
       "      <td>0.006572</td>\n",
       "      <td>-0.005569</td>\n",
       "      <td>0.017696</td>\n",
       "      <td>0.006302</td>\n",
       "      <td>-0.023877</td>\n",
       "      <td>0.009417</td>\n",
       "      <td>0.025661</td>\n",
       "      <td>-0.009734</td>\n",
       "      <td>0.010127</td>\n",
       "    </tr>\n",
       "    <tr>\n",
       "      <th>MGODGE</th>\n",
       "      <td>0.020540</td>\n",
       "      <td>-0.005527</td>\n",
       "      <td>-0.741895</td>\n",
       "      <td>-0.139306</td>\n",
       "      <td>1.000000</td>\n",
       "      <td>-0.107900</td>\n",
       "      <td>0.159553</td>\n",
       "      <td>0.071838</td>\n",
       "      <td>0.064642</td>\n",
       "      <td>-0.086731</td>\n",
       "      <td>...</td>\n",
       "      <td>0.010169</td>\n",
       "      <td>0.008844</td>\n",
       "      <td>0.004242</td>\n",
       "      <td>-0.004139</td>\n",
       "      <td>-0.052605</td>\n",
       "      <td>-0.008412</td>\n",
       "      <td>-0.026407</td>\n",
       "      <td>-0.011122</td>\n",
       "      <td>0.007261</td>\n",
       "      <td>-0.027291</td>\n",
       "    </tr>\n",
       "    <tr>\n",
       "      <th>...</th>\n",
       "      <td>...</td>\n",
       "      <td>...</td>\n",
       "      <td>...</td>\n",
       "      <td>...</td>\n",
       "      <td>...</td>\n",
       "      <td>...</td>\n",
       "      <td>...</td>\n",
       "      <td>...</td>\n",
       "      <td>...</td>\n",
       "      <td>...</td>\n",
       "      <td>...</td>\n",
       "      <td>...</td>\n",
       "      <td>...</td>\n",
       "      <td>...</td>\n",
       "      <td>...</td>\n",
       "      <td>...</td>\n",
       "      <td>...</td>\n",
       "      <td>...</td>\n",
       "      <td>...</td>\n",
       "      <td>...</td>\n",
       "      <td>...</td>\n",
       "    </tr>\n",
       "    <tr>\n",
       "      <th>AZEILPL</th>\n",
       "      <td>-0.006189</td>\n",
       "      <td>0.009234</td>\n",
       "      <td>0.013760</td>\n",
       "      <td>-0.023877</td>\n",
       "      <td>-0.008412</td>\n",
       "      <td>0.009711</td>\n",
       "      <td>-0.020771</td>\n",
       "      <td>-0.003829</td>\n",
       "      <td>-0.011199</td>\n",
       "      <td>0.010789</td>\n",
       "      <td>...</td>\n",
       "      <td>-0.004607</td>\n",
       "      <td>-0.001661</td>\n",
       "      <td>-0.001840</td>\n",
       "      <td>-0.001361</td>\n",
       "      <td>0.003902</td>\n",
       "      <td>1.000000</td>\n",
       "      <td>0.091052</td>\n",
       "      <td>-0.003420</td>\n",
       "      <td>0.081689</td>\n",
       "      <td>-0.002698</td>\n",
       "    </tr>\n",
       "    <tr>\n",
       "      <th>APLEZIER</th>\n",
       "      <td>0.000666</td>\n",
       "      <td>0.000644</td>\n",
       "      <td>0.018468</td>\n",
       "      <td>0.009417</td>\n",
       "      <td>-0.026407</td>\n",
       "      <td>-0.001566</td>\n",
       "      <td>0.019774</td>\n",
       "      <td>-0.006311</td>\n",
       "      <td>-0.018787</td>\n",
       "      <td>0.022004</td>\n",
       "      <td>...</td>\n",
       "      <td>-0.003797</td>\n",
       "      <td>0.023526</td>\n",
       "      <td>-0.005970</td>\n",
       "      <td>-0.004413</td>\n",
       "      <td>0.000177</td>\n",
       "      <td>0.091052</td>\n",
       "      <td>1.000000</td>\n",
       "      <td>-0.011093</td>\n",
       "      <td>0.040094</td>\n",
       "      <td>0.026325</td>\n",
       "    </tr>\n",
       "    <tr>\n",
       "      <th>AFIETS</th>\n",
       "      <td>-0.020993</td>\n",
       "      <td>0.030330</td>\n",
       "      <td>0.001906</td>\n",
       "      <td>0.025661</td>\n",
       "      <td>-0.011122</td>\n",
       "      <td>0.020921</td>\n",
       "      <td>-0.037474</td>\n",
       "      <td>-0.007909</td>\n",
       "      <td>-0.010051</td>\n",
       "      <td>-0.003323</td>\n",
       "      <td>...</td>\n",
       "      <td>0.003942</td>\n",
       "      <td>-0.011020</td>\n",
       "      <td>0.038345</td>\n",
       "      <td>-0.009025</td>\n",
       "      <td>-0.031095</td>\n",
       "      <td>-0.003420</td>\n",
       "      <td>-0.011093</td>\n",
       "      <td>1.000000</td>\n",
       "      <td>0.004845</td>\n",
       "      <td>0.009246</td>\n",
       "    </tr>\n",
       "    <tr>\n",
       "      <th>AINBOED</th>\n",
       "      <td>0.018304</td>\n",
       "      <td>0.025907</td>\n",
       "      <td>0.002392</td>\n",
       "      <td>-0.009734</td>\n",
       "      <td>0.007261</td>\n",
       "      <td>-0.003420</td>\n",
       "      <td>0.018396</td>\n",
       "      <td>-0.002602</td>\n",
       "      <td>-0.013539</td>\n",
       "      <td>-0.010076</td>\n",
       "      <td>...</td>\n",
       "      <td>0.032572</td>\n",
       "      <td>-0.006391</td>\n",
       "      <td>0.016501</td>\n",
       "      <td>-0.005234</td>\n",
       "      <td>0.026274</td>\n",
       "      <td>0.081689</td>\n",
       "      <td>0.040094</td>\n",
       "      <td>0.004845</td>\n",
       "      <td>1.000000</td>\n",
       "      <td>0.021273</td>\n",
       "    </tr>\n",
       "    <tr>\n",
       "      <th>ABYSTAND</th>\n",
       "      <td>-0.004166</td>\n",
       "      <td>0.028384</td>\n",
       "      <td>0.016658</td>\n",
       "      <td>0.010127</td>\n",
       "      <td>-0.027291</td>\n",
       "      <td>0.036569</td>\n",
       "      <td>-0.013835</td>\n",
       "      <td>-0.039981</td>\n",
       "      <td>-0.033944</td>\n",
       "      <td>0.001664</td>\n",
       "      <td>...</td>\n",
       "      <td>0.017600</td>\n",
       "      <td>-0.008693</td>\n",
       "      <td>0.114810</td>\n",
       "      <td>-0.007119</td>\n",
       "      <td>0.034854</td>\n",
       "      <td>-0.002698</td>\n",
       "      <td>0.026325</td>\n",
       "      <td>0.009246</td>\n",
       "      <td>0.021273</td>\n",
       "      <td>1.000000</td>\n",
       "    </tr>\n",
       "  </tbody>\n",
       "</table>\n",
       "<p>80 rows × 80 columns</p>\n",
       "</div>"
      ],
      "text/plain": [
       "           MAANTHUI   MGEMOMV    MGODPR    MGODOV    MGODGE    MRELGE   \\\n",
       "MAANTHUI    1.000000  0.010102 -0.024360  0.012056  0.020540  0.023025   \n",
       "MGEMOMV     0.010102  1.000000  0.049356 -0.108650 -0.005527  0.534798   \n",
       "MGODPR     -0.024360  0.049356  1.000000 -0.317549 -0.741895  0.147256   \n",
       "MGODOV      0.012056 -0.108650 -0.317549  1.000000 -0.139306 -0.125703   \n",
       "MGODGE      0.020540 -0.005527 -0.741895 -0.139306  1.000000 -0.107900   \n",
       "...              ...       ...       ...       ...       ...       ...   \n",
       "AZEILPL    -0.006189  0.009234  0.013760 -0.023877 -0.008412  0.009711   \n",
       "APLEZIER    0.000666  0.000644  0.018468  0.009417 -0.026407 -0.001566   \n",
       "AFIETS     -0.020993  0.030330  0.001906  0.025661 -0.011122  0.020921   \n",
       "AINBOED     0.018304  0.025907  0.002392 -0.009734  0.007261 -0.003420   \n",
       "ABYSTAND   -0.004166  0.028384  0.016658  0.010127 -0.027291  0.036569   \n",
       "\n",
       "            MRELSA    MRELOV   MFALLEEN   MFGEKIND   ...   ALEVEN   APERSONG   \\\n",
       "MAANTHUI  -0.038566 -0.012544   0.032535  -0.082919  ...  0.020926   0.003321   \n",
       "MGEMOMV   -0.175586 -0.500735  -0.659553  -0.315960  ...  0.017428  -0.000128   \n",
       "MGODPR    -0.211031 -0.084051  -0.115922   0.066457  ... -0.018459  -0.014355   \n",
       "MGODOV     0.111762  0.105340   0.122198   0.022851  ...  0.003050   0.006572   \n",
       "MGODGE     0.159553  0.071838   0.064642  -0.086731  ...  0.010169   0.008844   \n",
       "...             ...       ...        ...        ...  ...       ...        ...   \n",
       "AZEILPL   -0.020771 -0.003829  -0.011199   0.010789  ... -0.004607  -0.001661   \n",
       "APLEZIER   0.019774 -0.006311  -0.018787   0.022004  ... -0.003797   0.023526   \n",
       "AFIETS    -0.037474 -0.007909  -0.010051  -0.003323  ...  0.003942  -0.011020   \n",
       "AINBOED    0.018396 -0.002602  -0.013539  -0.010076  ...  0.032572  -0.006391   \n",
       "ABYSTAND  -0.013835 -0.039981  -0.033944   0.001664  ...  0.017600  -0.008693   \n",
       "\n",
       "           AGEZONG   AWAOREG    ABRAND   AZEILPL   APLEZIER    AFIETS   \\\n",
       "MAANTHUI   0.009444 -0.016333  0.000655 -0.006189   0.000666 -0.020993   \n",
       "MGEMOMV    0.016760  0.018749 -0.009269  0.009234   0.000644  0.030330   \n",
       "MGODPR     0.003949  0.003975  0.046352  0.013760   0.018468  0.001906   \n",
       "MGODOV    -0.005569  0.017696  0.006302 -0.023877   0.009417  0.025661   \n",
       "MGODGE     0.004242 -0.004139 -0.052605 -0.008412  -0.026407 -0.011122   \n",
       "...             ...       ...       ...       ...        ...       ...   \n",
       "AZEILPL   -0.001840 -0.001361  0.003902  1.000000   0.091052 -0.003420   \n",
       "APLEZIER  -0.005970 -0.004413  0.000177  0.091052   1.000000 -0.011093   \n",
       "AFIETS     0.038345 -0.009025 -0.031095 -0.003420  -0.011093  1.000000   \n",
       "AINBOED    0.016501 -0.005234  0.026274  0.081689   0.040094  0.004845   \n",
       "ABYSTAND   0.114810 -0.007119  0.034854 -0.002698   0.026325  0.009246   \n",
       "\n",
       "           AINBOED   ABYSTAND   \n",
       "MAANTHUI   0.018304  -0.004166  \n",
       "MGEMOMV    0.025907   0.028384  \n",
       "MGODPR     0.002392   0.016658  \n",
       "MGODOV    -0.009734   0.010127  \n",
       "MGODGE     0.007261  -0.027291  \n",
       "...             ...        ...  \n",
       "AZEILPL    0.081689  -0.002698  \n",
       "APLEZIER   0.040094   0.026325  \n",
       "AFIETS     0.004845   0.009246  \n",
       "AINBOED    1.000000   0.021273  \n",
       "ABYSTAND   0.021273   1.000000  \n",
       "\n",
       "[80 rows x 80 columns]"
      ]
     },
     "execution_count": 23,
     "metadata": {},
     "output_type": "execute_result"
    }
   ],
   "source": [
    "corrM"
   ]
  },
  {
   "cell_type": "markdown",
   "id": "18014896",
   "metadata": {},
   "source": [
    "Creating a heatmap of the matrix for fisrt 10 variables"
   ]
  },
  {
   "cell_type": "code",
   "execution_count": 24,
   "id": "8c55889a",
   "metadata": {},
   "outputs": [
    {
     "data": {
      "image/png": "[encoded data removed]",
      "text/plain": [
       "<Figure size 720x720 with 2 Axes>"
      ]
     },
     "metadata": {
      "needs_background": "light"
     },
     "output_type": "display_data"
    }
   ],
   "source": [
    "def correlation_heatmap(train):\n",
    "    correlations = train.corr()\n",
    "\n",
    "    fig, ax = plt.subplots(figsize=(10,10))\n",
    "    sns.heatmap(correlations,vmin=-1.0, vmax=1.0, center=0, fmt='.2f',cmap=\"viridis\",\n",
    "                square=True, linewidths=.5, annot=True, cbar_kws={\"shrink\": .70})\n",
    "    plt.show();\n",
    "    \n",
    "correlation_heatmap(df_cont.iloc[:, : 10])"
   ]
  },
  {
   "cell_type": "markdown",
   "id": "631063ce",
   "metadata": {},
   "source": [
    "From the first 10 continuous variables, we can see a strong correlation between MFALLEEN and MRELOV"
   ]
  },
  {
   "cell_type": "markdown",
   "id": "647a5235",
   "metadata": {},
   "source": [
    "Next, we compare the correlation between features and remove one of two features that have a correlation higher than 0.9"
   ]
  },
  {
   "cell_type": "code",
   "execution_count": 25,
   "id": "a6cf2d27",
   "metadata": {},
   "outputs": [],
   "source": [
    "df_cont2 = df_cont.copy()"
   ]
  },
  {
   "cell_type": "code",
   "execution_count": 26,
   "id": "a8308d6e",
   "metadata": {},
   "outputs": [
    {
     "data": {
      "text/html": [
       "<div>\n",
       "<style scoped>\n",
       "    .dataframe tbody tr th:only-of-type {\n",
       "        vertical-align: middle;\n",
       "    }\n",
       "\n",
       "    .dataframe tbody tr th {\n",
       "        vertical-align: top;\n",
       "    }\n",
       "\n",
       "    .dataframe thead th {\n",
       "        text-align: right;\n",
       "    }\n",
       "</style>\n",
       "<table border=\"1\" class=\"dataframe\">\n",
       "  <thead>\n",
       "    <tr style=\"text-align: right;\">\n",
       "      <th></th>\n",
       "      <th>MAANTHUI</th>\n",
       "      <th>MGEMOMV</th>\n",
       "      <th>MGODPR</th>\n",
       "      <th>MGODOV</th>\n",
       "      <th>MGODGE</th>\n",
       "      <th>MRELGE</th>\n",
       "      <th>MRELSA</th>\n",
       "      <th>MRELOV</th>\n",
       "      <th>MFALLEEN</th>\n",
       "      <th>MFGEKIND</th>\n",
       "      <th>...</th>\n",
       "      <th>PFIETS</th>\n",
       "      <th>PINBOED</th>\n",
       "      <th>PBYSTAND</th>\n",
       "      <th>AWAPART</th>\n",
       "      <th>AWABEDR</th>\n",
       "      <th>ALEVEN</th>\n",
       "      <th>APERSONG</th>\n",
       "      <th>ABRAND</th>\n",
       "      <th>AZEILPL</th>\n",
       "      <th>AINBOED</th>\n",
       "    </tr>\n",
       "  </thead>\n",
       "  <tbody>\n",
       "    <tr>\n",
       "      <th>0</th>\n",
       "      <td>1</td>\n",
       "      <td>3</td>\n",
       "      <td>5</td>\n",
       "      <td>1</td>\n",
       "      <td>3</td>\n",
       "      <td>7</td>\n",
       "      <td>0</td>\n",
       "      <td>2</td>\n",
       "      <td>1</td>\n",
       "      <td>2</td>\n",
       "      <td>...</td>\n",
       "      <td>0</td>\n",
       "      <td>0</td>\n",
       "      <td>0</td>\n",
       "      <td>0</td>\n",
       "      <td>0</td>\n",
       "      <td>0</td>\n",
       "      <td>0</td>\n",
       "      <td>1</td>\n",
       "      <td>0</td>\n",
       "      <td>0</td>\n",
       "    </tr>\n",
       "    <tr>\n",
       "      <th>1</th>\n",
       "      <td>1</td>\n",
       "      <td>2</td>\n",
       "      <td>4</td>\n",
       "      <td>1</td>\n",
       "      <td>4</td>\n",
       "      <td>6</td>\n",
       "      <td>2</td>\n",
       "      <td>2</td>\n",
       "      <td>0</td>\n",
       "      <td>4</td>\n",
       "      <td>...</td>\n",
       "      <td>0</td>\n",
       "      <td>0</td>\n",
       "      <td>0</td>\n",
       "      <td>2</td>\n",
       "      <td>0</td>\n",
       "      <td>0</td>\n",
       "      <td>0</td>\n",
       "      <td>1</td>\n",
       "      <td>0</td>\n",
       "      <td>0</td>\n",
       "    </tr>\n",
       "    <tr>\n",
       "      <th>2</th>\n",
       "      <td>1</td>\n",
       "      <td>2</td>\n",
       "      <td>4</td>\n",
       "      <td>2</td>\n",
       "      <td>4</td>\n",
       "      <td>3</td>\n",
       "      <td>2</td>\n",
       "      <td>4</td>\n",
       "      <td>4</td>\n",
       "      <td>4</td>\n",
       "      <td>...</td>\n",
       "      <td>0</td>\n",
       "      <td>0</td>\n",
       "      <td>0</td>\n",
       "      <td>1</td>\n",
       "      <td>0</td>\n",
       "      <td>0</td>\n",
       "      <td>0</td>\n",
       "      <td>1</td>\n",
       "      <td>0</td>\n",
       "      <td>0</td>\n",
       "    </tr>\n",
       "    <tr>\n",
       "      <th>3</th>\n",
       "      <td>1</td>\n",
       "      <td>3</td>\n",
       "      <td>3</td>\n",
       "      <td>2</td>\n",
       "      <td>4</td>\n",
       "      <td>5</td>\n",
       "      <td>2</td>\n",
       "      <td>2</td>\n",
       "      <td>2</td>\n",
       "      <td>3</td>\n",
       "      <td>...</td>\n",
       "      <td>0</td>\n",
       "      <td>0</td>\n",
       "      <td>0</td>\n",
       "      <td>0</td>\n",
       "      <td>0</td>\n",
       "      <td>0</td>\n",
       "      <td>0</td>\n",
       "      <td>1</td>\n",
       "      <td>0</td>\n",
       "      <td>0</td>\n",
       "    </tr>\n",
       "    <tr>\n",
       "      <th>4</th>\n",
       "      <td>1</td>\n",
       "      <td>4</td>\n",
       "      <td>4</td>\n",
       "      <td>1</td>\n",
       "      <td>4</td>\n",
       "      <td>7</td>\n",
       "      <td>1</td>\n",
       "      <td>2</td>\n",
       "      <td>2</td>\n",
       "      <td>4</td>\n",
       "      <td>...</td>\n",
       "      <td>0</td>\n",
       "      <td>0</td>\n",
       "      <td>0</td>\n",
       "      <td>0</td>\n",
       "      <td>0</td>\n",
       "      <td>0</td>\n",
       "      <td>0</td>\n",
       "      <td>1</td>\n",
       "      <td>0</td>\n",
       "      <td>0</td>\n",
       "    </tr>\n",
       "  </tbody>\n",
       "</table>\n",
       "<p>5 rows × 66 columns</p>\n",
       "</div>"
      ],
      "text/plain": [
       "   MAANTHUI   MGEMOMV   MGODPR   MGODOV   MGODGE   MRELGE   MRELSA   MRELOV   \\\n",
       "0          1         3        5        1        3        7        0        2   \n",
       "1          1         2        4        1        4        6        2        2   \n",
       "2          1         2        4        2        4        3        2        4   \n",
       "3          1         3        3        2        4        5        2        2   \n",
       "4          1         4        4        1        4        7        1        2   \n",
       "\n",
       "   MFALLEEN   MFGEKIND   ...  PFIETS   PINBOED   PBYSTAND   AWAPART   \\\n",
       "0          1          2  ...        0         0          0         0   \n",
       "1          0          4  ...        0         0          0         2   \n",
       "2          4          4  ...        0         0          0         1   \n",
       "3          2          3  ...        0         0          0         0   \n",
       "4          2          4  ...        0         0          0         0   \n",
       "\n",
       "   AWABEDR   ALEVEN   APERSONG   ABRAND   AZEILPL   AINBOED   \n",
       "0         0        0          0        1         0         0  \n",
       "1         0        0          0        1         0         0  \n",
       "2         0        0          0        1         0         0  \n",
       "3         0        0          0        1         0         0  \n",
       "4         0        0          0        1         0         0  \n",
       "\n",
       "[5 rows x 66 columns]"
      ]
     },
     "execution_count": 26,
     "metadata": {},
     "output_type": "execute_result"
    }
   ],
   "source": [
    "columns = np.full((corrM.shape[0],), True, dtype=bool)\n",
    "for i in range(corrM.shape[0]):\n",
    "    for j in range(i+1, corrM.shape[0]):\n",
    "        if corrM.iloc[i,j] >= 0.9:\n",
    "            if columns[j]:\n",
    "                columns[j] = False\n",
    "selected_columns = df_cont2.columns[columns]\n",
    "df_cont2 = df_cont2[selected_columns]\n",
    "df_cont2.head()"
   ]
  },
  {
   "cell_type": "markdown",
   "id": "5970a74c",
   "metadata": {},
   "source": [
    "Number of continuous variables reduced from 80 to 66"
   ]
  },
  {
   "cell_type": "markdown",
   "id": "f9e21932",
   "metadata": {},
   "source": [
    "### Checking for the sampling of the output variable in our dataset"
   ]
  },
  {
   "cell_type": "code",
   "execution_count": 27,
   "id": "46145f41",
   "metadata": {
    "scrolled": false
   },
   "outputs": [
    {
     "data": {
      "text/plain": [
       "<AxesSubplot:ylabel='CARAVAN '>"
      ]
     },
     "execution_count": 27,
     "metadata": {},
     "output_type": "execute_result"
    },
    {
     "data": {
      "image/png": "[encoded data removed]",
      "text/plain": [
       "<Figure size 432x288 with 1 Axes>"
      ]
     },
     "metadata": {
      "needs_background": "light"
     },
     "output_type": "display_data"
    }
   ],
   "source": [
    "df2[output_column].value_counts().sort_values().plot(kind = 'barh')"
   ]
  },
  {
   "cell_type": "code",
   "execution_count": 28,
   "id": "efcc9abc",
   "metadata": {},
   "outputs": [],
   "source": [
    "Output_var_count = df2['CARAVAN '].value_counts()"
   ]
  },
  {
   "cell_type": "code",
   "execution_count": 29,
   "id": "be154967",
   "metadata": {},
   "outputs": [
    {
     "data": {
      "text/plain": [
       "0    5474\n",
       "1     348\n",
       "Name: CARAVAN , dtype: int64"
      ]
     },
     "execution_count": 29,
     "metadata": {},
     "output_type": "execute_result"
    }
   ],
   "source": [
    "Output_var_count"
   ]
  },
  {
   "cell_type": "code",
   "execution_count": 30,
   "id": "babb1b5b",
   "metadata": {},
   "outputs": [
    {
     "data": {
      "text/plain": [
       "Int64Index([0, 1], dtype='int64')"
      ]
     },
     "execution_count": 30,
     "metadata": {},
     "output_type": "execute_result"
    }
   ],
   "source": [
    "Output_var_count.index"
   ]
  },
  {
   "cell_type": "code",
   "execution_count": 31,
   "id": "6b8bda59",
   "metadata": {},
   "outputs": [
    {
     "data": {
      "image/png": "[encoded data removed]",
      "text/plain": [
       "<Figure size 432x288 with 1 Axes>"
      ]
     },
     "metadata": {},
     "output_type": "display_data"
    }
   ],
   "source": [
    "sns.set(style=\"darkgrid\")\n",
    "sns.barplot(Output_var_count.index, Output_var_count.values, alpha=0.9)\n",
    "plt.title('Frequency Distribution of Output Variable')\n",
    "plt.ylabel('Number of Occurrences', fontsize=10)\n",
    "plt.xlabel('Output Value', fontsize=10)\n",
    "#plt.xticks(rotation=90)\n",
    "#plt.rcParams[\"figure.figsize\"] = (10,5)\n",
    "plt.show()"
   ]
  },
  {
   "cell_type": "code",
   "execution_count": 32,
   "id": "41800e4e",
   "metadata": {},
   "outputs": [
    {
     "name": "stdout",
     "output_type": "stream",
     "text": [
      "percentage of no subscription is 94.02267262109241\n",
      "percentage of subscription 5.977327378907591\n"
     ]
    }
   ],
   "source": [
    "count_no_sub = len(df2[df2['CARAVAN ']==0])\n",
    "count_sub = len(df2[df2['CARAVAN ']==1])\n",
    "pct_of_no_sub = count_no_sub/(count_no_sub+count_sub)\n",
    "print(\"percentage of no subscription is\", pct_of_no_sub*100)\n",
    "pct_of_sub = count_sub/(count_no_sub+count_sub)\n",
    "print(\"percentage of subscription\", pct_of_sub*100)"
   ]
  },
  {
   "cell_type": "code",
   "execution_count": 33,
   "id": "d13a3b89",
   "metadata": {},
   "outputs": [
    {
     "data": {
      "text/plain": [
       "5474"
      ]
     },
     "execution_count": 33,
     "metadata": {},
     "output_type": "execute_result"
    }
   ],
   "source": [
    "count_no_sub"
   ]
  },
  {
   "cell_type": "code",
   "execution_count": 34,
   "id": "192833c5",
   "metadata": {},
   "outputs": [
    {
     "data": {
      "text/plain": [
       "348"
      ]
     },
     "execution_count": 34,
     "metadata": {},
     "output_type": "execute_result"
    }
   ],
   "source": [
    "count_sub"
   ]
  },
  {
   "cell_type": "markdown",
   "id": "ff0baee3",
   "metadata": {},
   "source": [
    "Our classes are imbalanced, and the ratio of no-subscription to subscription instances is 94:6. "
   ]
  },
  {
   "cell_type": "code",
   "execution_count": 35,
   "id": "6e90d9ac",
   "metadata": {},
   "outputs": [],
   "source": [
    "#concatenating continuous and categorical variables\n",
    "df_final = pd.concat([df_cont2,df_cat],axis=1)"
   ]
  },
  {
   "cell_type": "code",
   "execution_count": 36,
   "id": "75787549",
   "metadata": {
    "scrolled": true
   },
   "outputs": [
    {
     "data": {
      "text/html": [
       "<div>\n",
       "<style scoped>\n",
       "    .dataframe tbody tr th:only-of-type {\n",
       "        vertical-align: middle;\n",
       "    }\n",
       "\n",
       "    .dataframe tbody tr th {\n",
       "        vertical-align: top;\n",
       "    }\n",
       "\n",
       "    .dataframe thead th {\n",
       "        text-align: right;\n",
       "    }\n",
       "</style>\n",
       "<table border=\"1\" class=\"dataframe\">\n",
       "  <thead>\n",
       "    <tr style=\"text-align: right;\">\n",
       "      <th></th>\n",
       "      <th>MAANTHUI</th>\n",
       "      <th>MGEMOMV</th>\n",
       "      <th>MGODPR</th>\n",
       "      <th>MGODOV</th>\n",
       "      <th>MGODGE</th>\n",
       "      <th>MRELGE</th>\n",
       "      <th>MRELSA</th>\n",
       "      <th>MRELOV</th>\n",
       "      <th>MFALLEEN</th>\n",
       "      <th>MFGEKIND</th>\n",
       "      <th>...</th>\n",
       "      <th>ALEVEN</th>\n",
       "      <th>APERSONG</th>\n",
       "      <th>ABRAND</th>\n",
       "      <th>AZEILPL</th>\n",
       "      <th>AINBOED</th>\n",
       "      <th>MOSTYPE</th>\n",
       "      <th>MGEMLEEF</th>\n",
       "      <th>MOSHOOFD</th>\n",
       "      <th>MGODRK</th>\n",
       "      <th>PWAPART</th>\n",
       "    </tr>\n",
       "  </thead>\n",
       "  <tbody>\n",
       "    <tr>\n",
       "      <th>0</th>\n",
       "      <td>1</td>\n",
       "      <td>3</td>\n",
       "      <td>5</td>\n",
       "      <td>1</td>\n",
       "      <td>3</td>\n",
       "      <td>7</td>\n",
       "      <td>0</td>\n",
       "      <td>2</td>\n",
       "      <td>1</td>\n",
       "      <td>2</td>\n",
       "      <td>...</td>\n",
       "      <td>0</td>\n",
       "      <td>0</td>\n",
       "      <td>1</td>\n",
       "      <td>0</td>\n",
       "      <td>0</td>\n",
       "      <td>33</td>\n",
       "      <td>2</td>\n",
       "      <td>8</td>\n",
       "      <td>0</td>\n",
       "      <td>0</td>\n",
       "    </tr>\n",
       "    <tr>\n",
       "      <th>1</th>\n",
       "      <td>1</td>\n",
       "      <td>2</td>\n",
       "      <td>4</td>\n",
       "      <td>1</td>\n",
       "      <td>4</td>\n",
       "      <td>6</td>\n",
       "      <td>2</td>\n",
       "      <td>2</td>\n",
       "      <td>0</td>\n",
       "      <td>4</td>\n",
       "      <td>...</td>\n",
       "      <td>0</td>\n",
       "      <td>0</td>\n",
       "      <td>1</td>\n",
       "      <td>0</td>\n",
       "      <td>0</td>\n",
       "      <td>37</td>\n",
       "      <td>2</td>\n",
       "      <td>8</td>\n",
       "      <td>1</td>\n",
       "      <td>2</td>\n",
       "    </tr>\n",
       "    <tr>\n",
       "      <th>2</th>\n",
       "      <td>1</td>\n",
       "      <td>2</td>\n",
       "      <td>4</td>\n",
       "      <td>2</td>\n",
       "      <td>4</td>\n",
       "      <td>3</td>\n",
       "      <td>2</td>\n",
       "      <td>4</td>\n",
       "      <td>4</td>\n",
       "      <td>4</td>\n",
       "      <td>...</td>\n",
       "      <td>0</td>\n",
       "      <td>0</td>\n",
       "      <td>1</td>\n",
       "      <td>0</td>\n",
       "      <td>0</td>\n",
       "      <td>37</td>\n",
       "      <td>2</td>\n",
       "      <td>8</td>\n",
       "      <td>0</td>\n",
       "      <td>2</td>\n",
       "    </tr>\n",
       "    <tr>\n",
       "      <th>3</th>\n",
       "      <td>1</td>\n",
       "      <td>3</td>\n",
       "      <td>3</td>\n",
       "      <td>2</td>\n",
       "      <td>4</td>\n",
       "      <td>5</td>\n",
       "      <td>2</td>\n",
       "      <td>2</td>\n",
       "      <td>2</td>\n",
       "      <td>3</td>\n",
       "      <td>...</td>\n",
       "      <td>0</td>\n",
       "      <td>0</td>\n",
       "      <td>1</td>\n",
       "      <td>0</td>\n",
       "      <td>0</td>\n",
       "      <td>9</td>\n",
       "      <td>3</td>\n",
       "      <td>3</td>\n",
       "      <td>2</td>\n",
       "      <td>0</td>\n",
       "    </tr>\n",
       "    <tr>\n",
       "      <th>4</th>\n",
       "      <td>1</td>\n",
       "      <td>4</td>\n",
       "      <td>4</td>\n",
       "      <td>1</td>\n",
       "      <td>4</td>\n",
       "      <td>7</td>\n",
       "      <td>1</td>\n",
       "      <td>2</td>\n",
       "      <td>2</td>\n",
       "      <td>4</td>\n",
       "      <td>...</td>\n",
       "      <td>0</td>\n",
       "      <td>0</td>\n",
       "      <td>1</td>\n",
       "      <td>0</td>\n",
       "      <td>0</td>\n",
       "      <td>40</td>\n",
       "      <td>2</td>\n",
       "      <td>10</td>\n",
       "      <td>1</td>\n",
       "      <td>0</td>\n",
       "    </tr>\n",
       "  </tbody>\n",
       "</table>\n",
       "<p>5 rows × 71 columns</p>\n",
       "</div>"
      ],
      "text/plain": [
       "   MAANTHUI   MGEMOMV   MGODPR   MGODOV   MGODGE   MRELGE   MRELSA   MRELOV   \\\n",
       "0          1         3        5        1        3        7        0        2   \n",
       "1          1         2        4        1        4        6        2        2   \n",
       "2          1         2        4        2        4        3        2        4   \n",
       "3          1         3        3        2        4        5        2        2   \n",
       "4          1         4        4        1        4        7        1        2   \n",
       "\n",
       "   MFALLEEN   MFGEKIND   ...  ALEVEN   APERSONG   ABRAND   AZEILPL   AINBOED   \\\n",
       "0          1          2  ...        0          0        1         0         0   \n",
       "1          0          4  ...        0          0        1         0         0   \n",
       "2          4          4  ...        0          0        1         0         0   \n",
       "3          2          3  ...        0          0        1         0         0   \n",
       "4          2          4  ...        0          0        1         0         0   \n",
       "\n",
       "   MOSTYPE   MGEMLEEF   MOSHOOFD   MGODRK   PWAPART   \n",
       "0        33          2          8        0         0  \n",
       "1        37          2          8        1         2  \n",
       "2        37          2          8        0         2  \n",
       "3         9          3          3        2         0  \n",
       "4        40          2         10        1         0  \n",
       "\n",
       "[5 rows x 71 columns]"
      ]
     },
     "execution_count": 36,
     "metadata": {},
     "output_type": "execute_result"
    }
   ],
   "source": [
    "df_final.head()"
   ]
  },
  {
   "cell_type": "markdown",
   "id": "f20d3bf2",
   "metadata": {},
   "source": [
    "Create dummy variables"
   ]
  },
  {
   "cell_type": "code",
   "execution_count": 37,
   "id": "933baef2",
   "metadata": {},
   "outputs": [],
   "source": [
    "for col in categorical_features:\n",
    "    dummies = pd.get_dummies(df_final[col],prefix=col)\n",
    "    df_final = pd.concat([df_final,dummies], axis =1)\n",
    "    df_final.drop(col, axis=1, inplace = True)"
   ]
  },
  {
   "cell_type": "code",
   "execution_count": 38,
   "id": "9ab71435",
   "metadata": {},
   "outputs": [
    {
     "data": {
      "text/html": [
       "<div>\n",
       "<style scoped>\n",
       "    .dataframe tbody tr th:only-of-type {\n",
       "        vertical-align: middle;\n",
       "    }\n",
       "\n",
       "    .dataframe tbody tr th {\n",
       "        vertical-align: top;\n",
       "    }\n",
       "\n",
       "    .dataframe thead th {\n",
       "        text-align: right;\n",
       "    }\n",
       "</style>\n",
       "<table border=\"1\" class=\"dataframe\">\n",
       "  <thead>\n",
       "    <tr style=\"text-align: right;\">\n",
       "      <th></th>\n",
       "      <th>MAANTHUI</th>\n",
       "      <th>MGEMOMV</th>\n",
       "      <th>MGODPR</th>\n",
       "      <th>MGODOV</th>\n",
       "      <th>MGODGE</th>\n",
       "      <th>MRELGE</th>\n",
       "      <th>MRELSA</th>\n",
       "      <th>MRELOV</th>\n",
       "      <th>MFALLEEN</th>\n",
       "      <th>MFGEKIND</th>\n",
       "      <th>...</th>\n",
       "      <th>MGODRK _4</th>\n",
       "      <th>MGODRK _5</th>\n",
       "      <th>MGODRK _6</th>\n",
       "      <th>MGODRK _7</th>\n",
       "      <th>MGODRK _8</th>\n",
       "      <th>MGODRK _9</th>\n",
       "      <th>PWAPART _0</th>\n",
       "      <th>PWAPART _1</th>\n",
       "      <th>PWAPART _2</th>\n",
       "      <th>PWAPART _3</th>\n",
       "    </tr>\n",
       "  </thead>\n",
       "  <tbody>\n",
       "    <tr>\n",
       "      <th>0</th>\n",
       "      <td>1</td>\n",
       "      <td>3</td>\n",
       "      <td>5</td>\n",
       "      <td>1</td>\n",
       "      <td>3</td>\n",
       "      <td>7</td>\n",
       "      <td>0</td>\n",
       "      <td>2</td>\n",
       "      <td>1</td>\n",
       "      <td>2</td>\n",
       "      <td>...</td>\n",
       "      <td>0</td>\n",
       "      <td>0</td>\n",
       "      <td>0</td>\n",
       "      <td>0</td>\n",
       "      <td>0</td>\n",
       "      <td>0</td>\n",
       "      <td>1</td>\n",
       "      <td>0</td>\n",
       "      <td>0</td>\n",
       "      <td>0</td>\n",
       "    </tr>\n",
       "    <tr>\n",
       "      <th>1</th>\n",
       "      <td>1</td>\n",
       "      <td>2</td>\n",
       "      <td>4</td>\n",
       "      <td>1</td>\n",
       "      <td>4</td>\n",
       "      <td>6</td>\n",
       "      <td>2</td>\n",
       "      <td>2</td>\n",
       "      <td>0</td>\n",
       "      <td>4</td>\n",
       "      <td>...</td>\n",
       "      <td>0</td>\n",
       "      <td>0</td>\n",
       "      <td>0</td>\n",
       "      <td>0</td>\n",
       "      <td>0</td>\n",
       "      <td>0</td>\n",
       "      <td>0</td>\n",
       "      <td>0</td>\n",
       "      <td>1</td>\n",
       "      <td>0</td>\n",
       "    </tr>\n",
       "    <tr>\n",
       "      <th>2</th>\n",
       "      <td>1</td>\n",
       "      <td>2</td>\n",
       "      <td>4</td>\n",
       "      <td>2</td>\n",
       "      <td>4</td>\n",
       "      <td>3</td>\n",
       "      <td>2</td>\n",
       "      <td>4</td>\n",
       "      <td>4</td>\n",
       "      <td>4</td>\n",
       "      <td>...</td>\n",
       "      <td>0</td>\n",
       "      <td>0</td>\n",
       "      <td>0</td>\n",
       "      <td>0</td>\n",
       "      <td>0</td>\n",
       "      <td>0</td>\n",
       "      <td>0</td>\n",
       "      <td>0</td>\n",
       "      <td>1</td>\n",
       "      <td>0</td>\n",
       "    </tr>\n",
       "    <tr>\n",
       "      <th>3</th>\n",
       "      <td>1</td>\n",
       "      <td>3</td>\n",
       "      <td>3</td>\n",
       "      <td>2</td>\n",
       "      <td>4</td>\n",
       "      <td>5</td>\n",
       "      <td>2</td>\n",
       "      <td>2</td>\n",
       "      <td>2</td>\n",
       "      <td>3</td>\n",
       "      <td>...</td>\n",
       "      <td>0</td>\n",
       "      <td>0</td>\n",
       "      <td>0</td>\n",
       "      <td>0</td>\n",
       "      <td>0</td>\n",
       "      <td>0</td>\n",
       "      <td>1</td>\n",
       "      <td>0</td>\n",
       "      <td>0</td>\n",
       "      <td>0</td>\n",
       "    </tr>\n",
       "    <tr>\n",
       "      <th>4</th>\n",
       "      <td>1</td>\n",
       "      <td>4</td>\n",
       "      <td>4</td>\n",
       "      <td>1</td>\n",
       "      <td>4</td>\n",
       "      <td>7</td>\n",
       "      <td>1</td>\n",
       "      <td>2</td>\n",
       "      <td>2</td>\n",
       "      <td>4</td>\n",
       "      <td>...</td>\n",
       "      <td>0</td>\n",
       "      <td>0</td>\n",
       "      <td>0</td>\n",
       "      <td>0</td>\n",
       "      <td>0</td>\n",
       "      <td>0</td>\n",
       "      <td>1</td>\n",
       "      <td>0</td>\n",
       "      <td>0</td>\n",
       "      <td>0</td>\n",
       "    </tr>\n",
       "  </tbody>\n",
       "</table>\n",
       "<p>5 rows × 136 columns</p>\n",
       "</div>"
      ],
      "text/plain": [
       "   MAANTHUI   MGEMOMV   MGODPR   MGODOV   MGODGE   MRELGE   MRELSA   MRELOV   \\\n",
       "0          1         3        5        1        3        7        0        2   \n",
       "1          1         2        4        1        4        6        2        2   \n",
       "2          1         2        4        2        4        3        2        4   \n",
       "3          1         3        3        2        4        5        2        2   \n",
       "4          1         4        4        1        4        7        1        2   \n",
       "\n",
       "   MFALLEEN   MFGEKIND   ...  MGODRK _4  MGODRK _5  MGODRK _6  MGODRK _7  \\\n",
       "0          1          2  ...          0          0          0          0   \n",
       "1          0          4  ...          0          0          0          0   \n",
       "2          4          4  ...          0          0          0          0   \n",
       "3          2          3  ...          0          0          0          0   \n",
       "4          2          4  ...          0          0          0          0   \n",
       "\n",
       "   MGODRK _8  MGODRK _9  PWAPART _0  PWAPART _1  PWAPART _2  PWAPART _3  \n",
       "0          0          0           1           0           0           0  \n",
       "1          0          0           0           0           1           0  \n",
       "2          0          0           0           0           1           0  \n",
       "3          0          0           1           0           0           0  \n",
       "4          0          0           1           0           0           0  \n",
       "\n",
       "[5 rows x 136 columns]"
      ]
     },
     "execution_count": 38,
     "metadata": {},
     "output_type": "execute_result"
    }
   ],
   "source": [
    "df_final.head()"
   ]
  },
  {
   "cell_type": "code",
   "execution_count": 39,
   "id": "94bce3ed",
   "metadata": {},
   "outputs": [],
   "source": [
    "output = df2['CARAVAN ']"
   ]
  },
  {
   "cell_type": "code",
   "execution_count": 40,
   "id": "012fa721",
   "metadata": {},
   "outputs": [],
   "source": [
    "data_final = pd.concat([df_final,output],axis=1)"
   ]
  },
  {
   "cell_type": "code",
   "execution_count": 41,
   "id": "24577627",
   "metadata": {},
   "outputs": [],
   "source": [
    "data_final.rename(columns={'CARAVAN ':'y'}, inplace=True)"
   ]
  },
  {
   "cell_type": "code",
   "execution_count": 42,
   "id": "47e8ef79",
   "metadata": {
    "scrolled": true
   },
   "outputs": [
    {
     "name": "stdout",
     "output_type": "stream",
     "text": [
      "length of oversampled data is  8772\n",
      "Number of no subscription in oversampled data 4386\n",
      "Number of subscription 4386\n",
      "Proportion of no subscription data in oversampled data is  0.5\n",
      "Proportion of subscription data in oversampled data is  0.5\n"
     ]
    }
   ],
   "source": [
    "X = data_final.loc[:, data_final.columns != 'y']\n",
    "y = data_final.loc[:, data_final.columns == 'y']\n",
    "\n",
    "os = SMOTE(random_state=0)\n",
    "#X_train, y_train, X_valid, y_valid, X_test, y_test = train_valid_test_split(data_final, target = 'y', \n",
    "#                                                                            train_size=0.5, valid_size=0.3, test_size=0.2)\n",
    "from sklearn.model_selection import train_test_split\n",
    "X_train, X_test, y_train, y_test = train_test_split(X, y, test_size=0.2, random_state=0)\n",
    "columns = X_train.columns\n",
    "os_data_X,os_data_y=os.fit_resample(X_train, y_train)\n",
    "os_data_X = pd.DataFrame(data=os_data_X,columns=columns )\n",
    "os_data_y= pd.DataFrame(data=os_data_y,columns=['y'])\n",
    "# we can Check the numbers of our data\n",
    "print(\"length of oversampled data is \",len(os_data_X))\n",
    "print(\"Number of no subscription in oversampled data\",len(os_data_y[os_data_y['y']==0]))\n",
    "print(\"Number of subscription\",len(os_data_y[os_data_y['y']==1]))\n",
    "print(\"Proportion of no subscription data in oversampled data is \",len(os_data_y[os_data_y['y']==0])/len(os_data_X))\n",
    "print(\"Proportion of subscription data in oversampled data is \",len(os_data_y[os_data_y['y']==1])/len(os_data_X))"
   ]
  },
  {
   "cell_type": "code",
   "execution_count": 43,
   "id": "afeb1f7b",
   "metadata": {},
   "outputs": [
    {
     "data": {
      "text/plain": [
       "0    4386\n",
       "1    4386\n",
       "Name: y, dtype: int64"
      ]
     },
     "execution_count": 43,
     "metadata": {},
     "output_type": "execute_result"
    }
   ],
   "source": [
    "Output_var_count_new = os_data_y['y'].value_counts()\n",
    "Output_var_count_new"
   ]
  },
  {
   "cell_type": "code",
   "execution_count": 44,
   "id": "1412b6c2",
   "metadata": {
    "scrolled": true
   },
   "outputs": [
    {
     "data": {
      "image/png": "[encoded data removed]",
      "text/plain": [
       "<Figure size 432x288 with 1 Axes>"
      ]
     },
     "metadata": {},
     "output_type": "display_data"
    }
   ],
   "source": [
    "sns.set(style=\"darkgrid\")\n",
    "sns.barplot(Output_var_count_new.index, Output_var_count_new.values, alpha=0.9)\n",
    "plt.title('Frequency Distribution of Output Variable')\n",
    "plt.ylabel('Number of Occurrences', fontsize=10)\n",
    "plt.xlabel('Output Value', fontsize=10)\n",
    "#plt.xticks(rotation=90)\n",
    "#plt.rcParams[\"figure.figsize\"] = (10,5)\n",
    "plt.show()"
   ]
  },
  {
   "cell_type": "markdown",
   "id": "06892777",
   "metadata": {},
   "source": [
    "Now we have a perfect balanced data! It's noticeable that I over-sampled only on the training data, because by oversampling only on the training data, none of the information in the test data is being used to create synthetic observations, therefore, no information will bleed from test data into the model training."
   ]
  },
  {
   "cell_type": "markdown",
   "id": "9a27079a",
   "metadata": {},
   "source": [
    "To give equal importance to all features, we need to scale the continuous features using scikit-learn's MinMaxScaler as the feature matrix is a mix of both binary and continuous variables"
   ]
  },
  {
   "cell_type": "code",
   "execution_count": 45,
   "id": "abe482bf",
   "metadata": {},
   "outputs": [
    {
     "data": {
      "text/html": [
       "<div>\n",
       "<style scoped>\n",
       "    .dataframe tbody tr th:only-of-type {\n",
       "        vertical-align: middle;\n",
       "    }\n",
       "\n",
       "    .dataframe tbody tr th {\n",
       "        vertical-align: top;\n",
       "    }\n",
       "\n",
       "    .dataframe thead th {\n",
       "        text-align: right;\n",
       "    }\n",
       "</style>\n",
       "<table border=\"1\" class=\"dataframe\">\n",
       "  <thead>\n",
       "    <tr style=\"text-align: right;\">\n",
       "      <th></th>\n",
       "      <th>MAANTHUI</th>\n",
       "      <th>MGEMOMV</th>\n",
       "      <th>MGODPR</th>\n",
       "      <th>MGODOV</th>\n",
       "      <th>MGODGE</th>\n",
       "      <th>MRELGE</th>\n",
       "      <th>MRELSA</th>\n",
       "      <th>MRELOV</th>\n",
       "      <th>MFALLEEN</th>\n",
       "      <th>MFGEKIND</th>\n",
       "      <th>...</th>\n",
       "      <th>MGODRK _4</th>\n",
       "      <th>MGODRK _5</th>\n",
       "      <th>MGODRK _6</th>\n",
       "      <th>MGODRK _7</th>\n",
       "      <th>MGODRK _8</th>\n",
       "      <th>MGODRK _9</th>\n",
       "      <th>PWAPART _0</th>\n",
       "      <th>PWAPART _1</th>\n",
       "      <th>PWAPART _2</th>\n",
       "      <th>PWAPART _3</th>\n",
       "    </tr>\n",
       "  </thead>\n",
       "  <tbody>\n",
       "    <tr>\n",
       "      <th>0</th>\n",
       "      <td>0.000000</td>\n",
       "      <td>0.25</td>\n",
       "      <td>0.444444</td>\n",
       "      <td>0.4</td>\n",
       "      <td>0.444444</td>\n",
       "      <td>0.777778</td>\n",
       "      <td>0.142857</td>\n",
       "      <td>0.222222</td>\n",
       "      <td>0.333333</td>\n",
       "      <td>0.444444</td>\n",
       "      <td>...</td>\n",
       "      <td>0.0</td>\n",
       "      <td>0.0</td>\n",
       "      <td>0.0</td>\n",
       "      <td>0.0</td>\n",
       "      <td>0.0</td>\n",
       "      <td>0.0</td>\n",
       "      <td>1.0</td>\n",
       "      <td>0.0</td>\n",
       "      <td>0.0</td>\n",
       "      <td>0.0</td>\n",
       "    </tr>\n",
       "    <tr>\n",
       "      <th>1</th>\n",
       "      <td>0.000000</td>\n",
       "      <td>0.25</td>\n",
       "      <td>0.555556</td>\n",
       "      <td>0.2</td>\n",
       "      <td>0.222222</td>\n",
       "      <td>0.444444</td>\n",
       "      <td>0.571429</td>\n",
       "      <td>0.222222</td>\n",
       "      <td>0.111111</td>\n",
       "      <td>0.666667</td>\n",
       "      <td>...</td>\n",
       "      <td>0.0</td>\n",
       "      <td>0.0</td>\n",
       "      <td>0.0</td>\n",
       "      <td>0.0</td>\n",
       "      <td>0.0</td>\n",
       "      <td>0.0</td>\n",
       "      <td>1.0</td>\n",
       "      <td>0.0</td>\n",
       "      <td>0.0</td>\n",
       "      <td>0.0</td>\n",
       "    </tr>\n",
       "    <tr>\n",
       "      <th>2</th>\n",
       "      <td>0.000000</td>\n",
       "      <td>0.50</td>\n",
       "      <td>0.444444</td>\n",
       "      <td>0.0</td>\n",
       "      <td>0.555556</td>\n",
       "      <td>1.000000</td>\n",
       "      <td>0.000000</td>\n",
       "      <td>0.000000</td>\n",
       "      <td>0.000000</td>\n",
       "      <td>0.222222</td>\n",
       "      <td>...</td>\n",
       "      <td>0.0</td>\n",
       "      <td>0.0</td>\n",
       "      <td>0.0</td>\n",
       "      <td>0.0</td>\n",
       "      <td>0.0</td>\n",
       "      <td>0.0</td>\n",
       "      <td>1.0</td>\n",
       "      <td>0.0</td>\n",
       "      <td>0.0</td>\n",
       "      <td>0.0</td>\n",
       "    </tr>\n",
       "    <tr>\n",
       "      <th>3</th>\n",
       "      <td>0.000000</td>\n",
       "      <td>0.75</td>\n",
       "      <td>0.555556</td>\n",
       "      <td>0.4</td>\n",
       "      <td>0.222222</td>\n",
       "      <td>0.555556</td>\n",
       "      <td>0.000000</td>\n",
       "      <td>0.444444</td>\n",
       "      <td>0.333333</td>\n",
       "      <td>0.000000</td>\n",
       "      <td>...</td>\n",
       "      <td>0.0</td>\n",
       "      <td>0.0</td>\n",
       "      <td>0.0</td>\n",
       "      <td>0.0</td>\n",
       "      <td>0.0</td>\n",
       "      <td>0.0</td>\n",
       "      <td>1.0</td>\n",
       "      <td>0.0</td>\n",
       "      <td>0.0</td>\n",
       "      <td>0.0</td>\n",
       "    </tr>\n",
       "    <tr>\n",
       "      <th>4</th>\n",
       "      <td>0.111111</td>\n",
       "      <td>0.25</td>\n",
       "      <td>0.333333</td>\n",
       "      <td>0.4</td>\n",
       "      <td>0.444444</td>\n",
       "      <td>0.222222</td>\n",
       "      <td>0.571429</td>\n",
       "      <td>0.333333</td>\n",
       "      <td>0.333333</td>\n",
       "      <td>0.333333</td>\n",
       "      <td>...</td>\n",
       "      <td>0.0</td>\n",
       "      <td>0.0</td>\n",
       "      <td>0.0</td>\n",
       "      <td>0.0</td>\n",
       "      <td>0.0</td>\n",
       "      <td>0.0</td>\n",
       "      <td>0.0</td>\n",
       "      <td>0.0</td>\n",
       "      <td>1.0</td>\n",
       "      <td>0.0</td>\n",
       "    </tr>\n",
       "  </tbody>\n",
       "</table>\n",
       "<p>5 rows × 136 columns</p>\n",
       "</div>"
      ],
      "text/plain": [
       "   MAANTHUI   MGEMOMV    MGODPR   MGODOV    MGODGE    MRELGE    MRELSA   \\\n",
       "0   0.000000      0.25  0.444444      0.4  0.444444  0.777778  0.142857   \n",
       "1   0.000000      0.25  0.555556      0.2  0.222222  0.444444  0.571429   \n",
       "2   0.000000      0.50  0.444444      0.0  0.555556  1.000000  0.000000   \n",
       "3   0.000000      0.75  0.555556      0.4  0.222222  0.555556  0.000000   \n",
       "4   0.111111      0.25  0.333333      0.4  0.444444  0.222222  0.571429   \n",
       "\n",
       "    MRELOV   MFALLEEN   MFGEKIND   ...  MGODRK _4  MGODRK _5  MGODRK _6  \\\n",
       "0  0.222222   0.333333   0.444444  ...        0.0        0.0        0.0   \n",
       "1  0.222222   0.111111   0.666667  ...        0.0        0.0        0.0   \n",
       "2  0.000000   0.000000   0.222222  ...        0.0        0.0        0.0   \n",
       "3  0.444444   0.333333   0.000000  ...        0.0        0.0        0.0   \n",
       "4  0.333333   0.333333   0.333333  ...        0.0        0.0        0.0   \n",
       "\n",
       "   MGODRK _7  MGODRK _8  MGODRK _9  PWAPART _0  PWAPART _1  PWAPART _2  \\\n",
       "0        0.0        0.0        0.0         1.0         0.0         0.0   \n",
       "1        0.0        0.0        0.0         1.0         0.0         0.0   \n",
       "2        0.0        0.0        0.0         1.0         0.0         0.0   \n",
       "3        0.0        0.0        0.0         1.0         0.0         0.0   \n",
       "4        0.0        0.0        0.0         0.0         0.0         1.0   \n",
       "\n",
       "   PWAPART _3  \n",
       "0         0.0  \n",
       "1         0.0  \n",
       "2         0.0  \n",
       "3         0.0  \n",
       "4         0.0  \n",
       "\n",
       "[5 rows x 136 columns]"
      ]
     },
     "execution_count": 45,
     "metadata": {},
     "output_type": "execute_result"
    }
   ],
   "source": [
    "mms = MinMaxScaler()\n",
    "mms.fit(os_data_X)\n",
    "os_data_X1 = mms.transform(os_data_X)\n",
    "columns = os_data_X.columns\n",
    "os_data_X1 = pd.DataFrame(os_data_X1,columns=columns)\n",
    "os_data_X1.head()"
   ]
  },
  {
   "cell_type": "markdown",
   "id": "e581d8a4",
   "metadata": {},
   "source": [
    "### Recursive Feature Elimination"
   ]
  },
  {
   "cell_type": "markdown",
   "id": "0b8fb66e",
   "metadata": {},
   "source": [
    "Recursive Feature Elimination (RFE) is based on the idea to repeatedly construct a model and choose either the best or worst performing feature, setting the feature aside and then repeating the process with the rest of the features. This process is applied until all features in the dataset are exhausted. The goal of RFE is to select features by recursively considering smaller and smaller sets of features."
   ]
  },
  {
   "cell_type": "code",
   "execution_count": 46,
   "id": "687417e7",
   "metadata": {},
   "outputs": [
    {
     "name": "stdout",
     "output_type": "stream",
     "text": [
      "[False False False False False False False False  True  True  True  True\n",
      "  True  True False False False False False False False False False False\n",
      " False  True  True False False False  True  True False False False False\n",
      " False False False False False False False False False False False False\n",
      " False False False False False False False False False False False  True\n",
      " False False False False False False False False False False False False\n",
      "  True False False False False False False False False False False False\n",
      " False False False False False False False False False False False False\n",
      " False False False  True  True False False False False False False False\n",
      " False False False False False False False  True  True  True  True False\n",
      " False  True False False False False False False False False False False\n",
      "  True False False False]\n",
      "[110  32  51  52  48  59 106  60   1   1   1   1   1   1  38 117  13  41\n",
      "  40  39  83  68  82 102  58   1   1 111  93  20   1   1  42 107  96 113\n",
      "  30  43  89  88  57  28 109  65  98 104 100  95  81  74 116  84  61  64\n",
      " 115  19 114 108  71   1 103  73  94  29 101 105  66  67  77  56  76   9\n",
      "   1  10  69  47  70  97  72  99  87  92  49 112  91  85  54  33  55  37\n",
      "  86  75  80  63  79  78  90   5   2   1   1   3   7   4  35  34  14  17\n",
      "  18  15  16  36   8  46   6   1   1   1   1  53  44   1  25  26  24  22\n",
      "  21  23  27  31  50  45   1  11  12  62]\n"
     ]
    }
   ],
   "source": [
    "logreg = LogisticRegression()\n",
    "rfe = RFE(logreg, 20)\n",
    "rfe = rfe.fit(os_data_X1, os_data_y.values.ravel())\n",
    "print(rfe.support_)\n",
    "print(rfe.ranking_)"
   ]
  },
  {
   "cell_type": "code",
   "execution_count": 47,
   "id": "0a17347a",
   "metadata": {},
   "outputs": [
    {
     "data": {
      "text/plain": [
       "Index(['MFALLEEN ', 'MFGEKIND ', 'MFWEKIND ', 'MOPLHOOG ', 'MOPLMIDD ',\n",
       "       'MOPLLAAG ', 'MHHUUR ', 'MHKOOP ', 'MZFONDS ', 'MZPART ', 'AWAPART ',\n",
       "       'MOSTYPE _7', 'MOSTYPE _35', 'MOSTYPE _36', 'MOSHOOFD _4',\n",
       "       'MOSHOOFD _5', 'MOSHOOFD _6', 'MOSHOOFD _7', 'MOSHOOFD _10',\n",
       "       'PWAPART _0'],\n",
       "      dtype='object')"
      ]
     },
     "execution_count": 47,
     "metadata": {},
     "output_type": "execute_result"
    }
   ],
   "source": [
    "os_data_X1.columns[rfe.support_]"
   ]
  },
  {
   "cell_type": "code",
   "execution_count": 48,
   "id": "aed70c1f",
   "metadata": {},
   "outputs": [],
   "source": [
    "cols=['MFALLEEN ', 'MFGEKIND ', 'MFWEKIND ', 'MOPLHOOG ', 'MOPLMIDD ',\n",
    "       'MOPLLAAG ', 'MHHUUR ', 'MHKOOP ', 'MZFONDS ', 'MZPART ', 'AWAPART ',\n",
    "       'MOSTYPE _7', 'MOSTYPE _35', 'MOSTYPE _36', 'MOSHOOFD _4',\n",
    "       'MOSHOOFD _5', 'MOSHOOFD _6', 'MOSHOOFD _7', 'MOSHOOFD _10',\n",
    "       'PWAPART _0']\n",
    "X=os_data_X1[cols]\n",
    "y=os_data_y['y']"
   ]
  },
  {
   "cell_type": "markdown",
   "id": "d94cb3aa",
   "metadata": {},
   "source": [
    "### Model Implementation"
   ]
  },
  {
   "cell_type": "code",
   "execution_count": 49,
   "id": "2da59094",
   "metadata": {},
   "outputs": [
    {
     "name": "stdout",
     "output_type": "stream",
     "text": [
      "Warning: Maximum number of iterations has been exceeded.\n",
      "         Current function value: 0.481083\n",
      "         Iterations: 35\n",
      "                            Results: Logit\n",
      "======================================================================\n",
      "Model:                Logit              Pseudo R-squared:   0.306    \n",
      "Dependent Variable:   y                  AIC:                8480.1180\n",
      "Date:                 2021-12-11 12:48   BIC:                8621.7044\n",
      "No. Observations:     8772               Log-Likelihood:     -4220.1  \n",
      "Df Model:             19                 LL-Null:            -6080.3  \n",
      "Df Residuals:         8752               LLR p-value:        0.0000   \n",
      "Converged:            0.0000             Scale:              1.0000   \n",
      "No. Iterations:       35.0000                                         \n",
      "----------------------------------------------------------------------\n",
      "              Coef.    Std.Err.    z     P>|z|     [0.025     0.975]  \n",
      "----------------------------------------------------------------------\n",
      "MFALLEEN      -6.5129    0.4179 -15.5833 0.0000     -7.3320    -5.6937\n",
      "MFGEKIND      -6.9969    0.4478 -15.6247 0.0000     -7.8746    -6.1192\n",
      "MFWEKIND      -7.0797    0.4474 -15.8231 0.0000     -7.9567    -6.2028\n",
      "MOPLHOOG      -1.9602    0.4204  -4.6623 0.0000     -2.7842    -1.1361\n",
      "MOPLMIDD      -2.2914    0.4267  -5.3705 0.0000     -3.1276    -1.4551\n",
      "MOPLLAAG      -3.3617    0.4249  -7.9113 0.0000     -4.1946    -2.5289\n",
      "MHHUUR         4.5784    0.6488   7.0563 0.0000      3.3067     5.8501\n",
      "MHKOOP         4.8553    0.6448   7.5296 0.0000      3.5915     6.1192\n",
      "MZFONDS        8.3341    0.6513  12.7969 0.0000      7.0576     9.6105\n",
      "MZPART         7.6235    0.6676  11.4191 0.0000      6.3150     8.9320\n",
      "AWAPART       -4.7953    0.2329 -20.5869 0.0000     -5.2519    -4.3388\n",
      "MOSTYPE _7    -2.9103    0.6140  -4.7396 0.0000     -4.1138    -1.7068\n",
      "MOSTYPE _35   -2.4930    0.2911  -8.5647 0.0000     -3.0634    -1.9225\n",
      "MOSTYPE _36   -2.0602    0.2297  -8.9696 0.0000     -2.5104    -1.6100\n",
      "MOSHOOFD _4  -21.7595 7042.9983  -0.0031 0.9975 -13825.7824 13782.2634\n",
      "MOSHOOFD _5   -2.3285    0.1572 -14.8162 0.0000     -2.6365    -2.0205\n",
      "MOSHOOFD _6   -5.1285    1.0070  -5.0931 0.0000     -7.1021    -3.1549\n",
      "MOSHOOFD _7   -2.3334    0.1893 -12.3269 0.0000     -2.7045    -1.9624\n",
      "MOSHOOFD _10  -3.4840    0.4252  -8.1944 0.0000     -4.3173    -2.6507\n",
      "PWAPART _0    -3.2361    0.1179 -27.4397 0.0000     -3.4672    -3.0049\n",
      "======================================================================\n",
      "\n"
     ]
    },
    {
     "name": "stderr",
     "output_type": "stream",
     "text": [
      "C:\\Users\\punit\\anaconda3\\lib\\site-packages\\statsmodels\\base\\model.py:566: ConvergenceWarning: Maximum Likelihood optimization failed to converge. Check mle_retvals\n",
      "  warnings.warn(\"Maximum Likelihood optimization failed to \"\n"
     ]
    }
   ],
   "source": [
    "logit_model=sm.Logit(y,X)\n",
    "result=logit_model.fit()\n",
    "print(result.summary2())"
   ]
  },
  {
   "cell_type": "markdown",
   "id": "c19c2b6f",
   "metadata": {},
   "source": [
    "Removing features with p value above 0.05"
   ]
  },
  {
   "cell_type": "code",
   "execution_count": 50,
   "id": "08aa6d0a",
   "metadata": {},
   "outputs": [],
   "source": [
    "cols=['MFALLEEN ', 'MFGEKIND ', 'MFWEKIND ', 'MOPLHOOG ', 'MOPLMIDD ',\n",
    "       'MOPLLAAG ', 'MHHUUR ', 'MHKOOP ', 'MZFONDS ', 'MZPART ', 'AWAPART ',\n",
    "       'MOSTYPE _7', 'MOSTYPE _35', 'MOSTYPE _36', \n",
    "       'MOSHOOFD _5', 'MOSHOOFD _6', 'MOSHOOFD _7', 'MOSHOOFD _10',\n",
    "       'PWAPART _0']\n",
    "X=os_data_X1[cols]\n",
    "y=os_data_y['y']"
   ]
  },
  {
   "cell_type": "code",
   "execution_count": 51,
   "id": "c69fd2e9",
   "metadata": {
    "scrolled": false
   },
   "outputs": [
    {
     "name": "stdout",
     "output_type": "stream",
     "text": [
      "Optimization terminated successfully.\n",
      "         Current function value: 0.484365\n",
      "         Iterations 9\n",
      "                         Results: Logit\n",
      "================================================================\n",
      "Model:              Logit            Pseudo R-squared: 0.301    \n",
      "Dependent Variable: y                AIC:              8535.6979\n",
      "Date:               2021-12-11 12:49 BIC:              8670.2050\n",
      "No. Observations:   8772             Log-Likelihood:   -4248.8  \n",
      "Df Model:           18               LL-Null:          -6080.3  \n",
      "Df Residuals:       8753             LLR p-value:      0.0000   \n",
      "Converged:          1.0000           Scale:            1.0000   \n",
      "No. Iterations:     9.0000                                      \n",
      "----------------------------------------------------------------\n",
      "                 Coef.  Std.Err.    z     P>|z|   [0.025  0.975]\n",
      "----------------------------------------------------------------\n",
      "MFALLEEN        -6.5941   0.4163 -15.8402 0.0000 -7.4101 -5.7782\n",
      "MFGEKIND        -6.7903   0.4445 -15.2758 0.0000 -7.6615 -5.9190\n",
      "MFWEKIND        -6.8888   0.4445 -15.4986 0.0000 -7.7599 -6.0176\n",
      "MOPLHOOG        -2.1696   0.4183  -5.1872 0.0000 -2.9894 -1.3498\n",
      "MOPLMIDD        -2.3306   0.4247  -5.4877 0.0000 -3.1629 -1.4982\n",
      "MOPLLAAG        -3.3815   0.4231  -7.9924 0.0000 -4.2108 -2.5523\n",
      "MHHUUR           4.5026   0.6468   6.9616 0.0000  3.2349  5.7702\n",
      "MHKOOP           4.8143   0.6430   7.4878 0.0000  3.5541  6.0744\n",
      "MZFONDS          8.2784   0.6494  12.7476 0.0000  7.0056  9.5512\n",
      "MZPART           7.5932   0.6661  11.3995 0.0000  6.2877  8.8987\n",
      "AWAPART         -4.8165   0.2320 -20.7599 0.0000 -5.2713 -4.3618\n",
      "MOSTYPE _7      -2.8978   0.6148  -4.7131 0.0000 -4.1029 -1.6927\n",
      "MOSTYPE _35     -2.4610   0.2900  -8.4870 0.0000 -3.0293 -1.8927\n",
      "MOSTYPE _36     -2.0473   0.2303  -8.8878 0.0000 -2.4987 -1.5958\n",
      "MOSHOOFD _5     -2.2451   0.1561 -14.3851 0.0000 -2.5510 -1.9392\n",
      "MOSHOOFD _6     -5.0117   1.0065  -4.9793 0.0000 -6.9844 -3.0390\n",
      "MOSHOOFD _7     -2.3114   0.1892 -12.2197 0.0000 -2.6821 -1.9407\n",
      "MOSHOOFD _10    -3.5101   0.4254  -8.2519 0.0000 -4.3439 -2.6764\n",
      "PWAPART _0      -3.2430   0.1175 -27.5972 0.0000 -3.4733 -3.0127\n",
      "================================================================\n",
      "\n"
     ]
    }
   ],
   "source": [
    "logit_model=sm.Logit(y,X)\n",
    "result=logit_model.fit()\n",
    "print(result.summary2())"
   ]
  },
  {
   "cell_type": "markdown",
   "id": "43328926",
   "metadata": {},
   "source": [
    "### Logistic Regression Model Fitting"
   ]
  },
  {
   "cell_type": "code",
   "execution_count": 52,
   "id": "d6cd06e4",
   "metadata": {},
   "outputs": [
    {
     "data": {
      "text/plain": [
       "LogisticRegression()"
      ]
     },
     "execution_count": 52,
     "metadata": {},
     "output_type": "execute_result"
    }
   ],
   "source": [
    "from sklearn.model_selection import train_test_split\n",
    "X_train, X_test1, y_train, y_test1 = train_test_split(X, y, test_size=0.3, random_state=0)\n",
    "logreg = LogisticRegression()\n",
    "logreg.fit(X_train, y_train)"
   ]
  },
  {
   "cell_type": "code",
   "execution_count": 53,
   "id": "0e6f8127",
   "metadata": {},
   "outputs": [
    {
     "name": "stdout",
     "output_type": "stream",
     "text": [
      "Accuracy of logistic regression classifier on validation set: 0.93\n"
     ]
    }
   ],
   "source": [
    "y_pred = logreg.predict(X_test1)\n",
    "print('Accuracy of logistic regression classifier on validation set: {:.2f}'.format(logreg.score(X_test1, y_test1)))"
   ]
  },
  {
   "cell_type": "code",
   "execution_count": 78,
   "id": "dc58f00a",
   "metadata": {},
   "outputs": [
    {
     "name": "stdout",
     "output_type": "stream",
     "text": [
      "[[1298   28]\n",
      " [ 160 1146]]\n"
     ]
    }
   ],
   "source": [
    "from sklearn.metrics import confusion_matrix\n",
    "confusion_matrix = confusion_matrix(y_test1, y_pred)\n",
    "print(confusion_matrix)"
   ]
  },
  {
   "cell_type": "code",
   "execution_count": 79,
   "id": "753c2063",
   "metadata": {},
   "outputs": [
    {
     "data": {
      "text/plain": [
       "<AxesSubplot:>"
      ]
     },
     "execution_count": 79,
     "metadata": {},
     "output_type": "execute_result"
    },
    {
     "data": {
      "image/png": "[encoded data removed]",
      "text/plain": [
       "<Figure size 432x288 with 2 Axes>"
      ]
     },
     "metadata": {},
     "output_type": "display_data"
    }
   ],
   "source": [
    "group_names = ['True Neg','False Pos','False Neg','True Pos']\n",
    "group_counts = [\"{0:0.0f}\".format(value) for value in\n",
    "                confusion_matrix.flatten()]\n",
    "group_percentages = [\"{0:.2%}\".format(value) for value in\n",
    "                     confusion_matrix.flatten()/np.sum(confusion_matrix)]\n",
    "labels = [f\"{v1}\\n{v2}\\n{v3}\" for v1, v2, v3 in\n",
    "          zip(group_names,group_counts,group_percentages)]\n",
    "labels = np.asarray(labels).reshape(2,2)\n",
    "sns.heatmap(confusion_matrix, annot=labels, fmt='', cmap='Blues')"
   ]
  },
  {
   "cell_type": "code",
   "execution_count": 55,
   "id": "d6811b7f",
   "metadata": {},
   "outputs": [
    {
     "name": "stdout",
     "output_type": "stream",
     "text": [
      "              precision    recall  f1-score   support\n",
      "\n",
      "           0       0.89      0.98      0.93      1326\n",
      "           1       0.98      0.88      0.92      1306\n",
      "\n",
      "    accuracy                           0.93      2632\n",
      "   macro avg       0.93      0.93      0.93      2632\n",
      "weighted avg       0.93      0.93      0.93      2632\n",
      "\n"
     ]
    }
   ],
   "source": [
    "print(classification_report(y_test1, y_pred))"
   ]
  },
  {
   "cell_type": "markdown",
   "id": "187a8740",
   "metadata": {},
   "source": [
    "ROC Curve"
   ]
  },
  {
   "cell_type": "code",
   "execution_count": 56,
   "id": "43dda479",
   "metadata": {
    "scrolled": true
   },
   "outputs": [
    {
     "data": {
      "image/png": "[encoded data removed]",
      "text/plain": [
       "<Figure size 432x288 with 1 Axes>"
      ]
     },
     "metadata": {},
     "output_type": "display_data"
    }
   ],
   "source": [
    "logit_roc_auc = roc_auc_score(y_test1, logreg.predict(X_test1))\n",
    "fpr, tpr, thresholds = roc_curve(y_test1, logreg.predict_proba(X_test1)[:,1])\n",
    "plt.figure()\n",
    "plt.plot(fpr, tpr, label='Logistic Regression (area = %0.2f)' % logit_roc_auc)\n",
    "plt.plot([0, 1], [0, 1],'r--')\n",
    "plt.xlim([0.0, 1.0])\n",
    "plt.ylim([0.0, 1.05])\n",
    "plt.xlabel('False Positive Rate')\n",
    "plt.ylabel('True Positive Rate')\n",
    "plt.title('Receiver operating characteristic')\n",
    "plt.legend(loc=\"lower right\")\n",
    "plt.savefig('Log_ROC')\n",
    "plt.show()"
   ]
  },
  {
   "cell_type": "markdown",
   "id": "da8a11be",
   "metadata": {},
   "source": [
    "### Checking accuracy on Test Data"
   ]
  },
  {
   "cell_type": "code",
   "execution_count": 59,
   "id": "15f76c98",
   "metadata": {
    "scrolled": true
   },
   "outputs": [
    {
     "data": {
      "text/plain": [
       "['MFALLEEN ',\n",
       " 'MFGEKIND ',\n",
       " 'MFWEKIND ',\n",
       " 'MOPLHOOG ',\n",
       " 'MOPLMIDD ',\n",
       " 'MOPLLAAG ',\n",
       " 'MHHUUR ',\n",
       " 'MHKOOP ',\n",
       " 'MZFONDS ',\n",
       " 'MZPART ',\n",
       " 'AWAPART ',\n",
       " 'MOSTYPE _7',\n",
       " 'MOSTYPE _35',\n",
       " 'MOSTYPE _36',\n",
       " 'MOSHOOFD _5',\n",
       " 'MOSHOOFD _6',\n",
       " 'MOSHOOFD _7',\n",
       " 'MOSHOOFD _10',\n",
       " 'PWAPART _0']"
      ]
     },
     "execution_count": 59,
     "metadata": {},
     "output_type": "execute_result"
    }
   ],
   "source": [
    "final_features = X.columns.to_list()\n",
    "final_features"
   ]
  },
  {
   "cell_type": "code",
   "execution_count": 60,
   "id": "4732d485",
   "metadata": {},
   "outputs": [],
   "source": [
    "X_test2 = X_test[final_features]"
   ]
  },
  {
   "cell_type": "code",
   "execution_count": 62,
   "id": "47d5523f",
   "metadata": {},
   "outputs": [
    {
     "data": {
      "text/html": [
       "<div>\n",
       "<style scoped>\n",
       "    .dataframe tbody tr th:only-of-type {\n",
       "        vertical-align: middle;\n",
       "    }\n",
       "\n",
       "    .dataframe tbody tr th {\n",
       "        vertical-align: top;\n",
       "    }\n",
       "\n",
       "    .dataframe thead th {\n",
       "        text-align: right;\n",
       "    }\n",
       "</style>\n",
       "<table border=\"1\" class=\"dataframe\">\n",
       "  <thead>\n",
       "    <tr style=\"text-align: right;\">\n",
       "      <th></th>\n",
       "      <th>MAANTHUI</th>\n",
       "      <th>MGEMOMV</th>\n",
       "      <th>MGODPR</th>\n",
       "      <th>MGODOV</th>\n",
       "      <th>MGODGE</th>\n",
       "      <th>MRELGE</th>\n",
       "      <th>MRELSA</th>\n",
       "      <th>MRELOV</th>\n",
       "      <th>MFALLEEN</th>\n",
       "      <th>MFGEKIND</th>\n",
       "      <th>...</th>\n",
       "      <th>MGODRK _4</th>\n",
       "      <th>MGODRK _5</th>\n",
       "      <th>MGODRK _6</th>\n",
       "      <th>MGODRK _7</th>\n",
       "      <th>MGODRK _8</th>\n",
       "      <th>MGODRK _9</th>\n",
       "      <th>PWAPART _0</th>\n",
       "      <th>PWAPART _1</th>\n",
       "      <th>PWAPART _2</th>\n",
       "      <th>PWAPART _3</th>\n",
       "    </tr>\n",
       "  </thead>\n",
       "  <tbody>\n",
       "    <tr>\n",
       "      <th>0</th>\n",
       "      <td>0.0</td>\n",
       "      <td>0.00</td>\n",
       "      <td>0.555556</td>\n",
       "      <td>0.0</td>\n",
       "      <td>0.444444</td>\n",
       "      <td>0.333333</td>\n",
       "      <td>0.142857</td>\n",
       "      <td>0.555556</td>\n",
       "      <td>0.777778</td>\n",
       "      <td>0.222222</td>\n",
       "      <td>...</td>\n",
       "      <td>0.0</td>\n",
       "      <td>0.0</td>\n",
       "      <td>0.0</td>\n",
       "      <td>0.0</td>\n",
       "      <td>0.0</td>\n",
       "      <td>0.0</td>\n",
       "      <td>0.0</td>\n",
       "      <td>0.0</td>\n",
       "      <td>1.0</td>\n",
       "      <td>0.0</td>\n",
       "    </tr>\n",
       "    <tr>\n",
       "      <th>1</th>\n",
       "      <td>0.0</td>\n",
       "      <td>0.75</td>\n",
       "      <td>1.000000</td>\n",
       "      <td>0.0</td>\n",
       "      <td>0.000000</td>\n",
       "      <td>0.555556</td>\n",
       "      <td>0.000000</td>\n",
       "      <td>0.444444</td>\n",
       "      <td>0.000000</td>\n",
       "      <td>0.000000</td>\n",
       "      <td>...</td>\n",
       "      <td>0.0</td>\n",
       "      <td>0.0</td>\n",
       "      <td>0.0</td>\n",
       "      <td>0.0</td>\n",
       "      <td>0.0</td>\n",
       "      <td>0.0</td>\n",
       "      <td>1.0</td>\n",
       "      <td>0.0</td>\n",
       "      <td>0.0</td>\n",
       "      <td>0.0</td>\n",
       "    </tr>\n",
       "    <tr>\n",
       "      <th>2</th>\n",
       "      <td>0.0</td>\n",
       "      <td>0.50</td>\n",
       "      <td>0.444444</td>\n",
       "      <td>0.4</td>\n",
       "      <td>0.444444</td>\n",
       "      <td>0.888889</td>\n",
       "      <td>0.142857</td>\n",
       "      <td>0.111111</td>\n",
       "      <td>0.111111</td>\n",
       "      <td>0.222222</td>\n",
       "      <td>...</td>\n",
       "      <td>0.0</td>\n",
       "      <td>0.0</td>\n",
       "      <td>0.0</td>\n",
       "      <td>0.0</td>\n",
       "      <td>0.0</td>\n",
       "      <td>0.0</td>\n",
       "      <td>1.0</td>\n",
       "      <td>0.0</td>\n",
       "      <td>0.0</td>\n",
       "      <td>0.0</td>\n",
       "    </tr>\n",
       "    <tr>\n",
       "      <th>3</th>\n",
       "      <td>0.0</td>\n",
       "      <td>0.50</td>\n",
       "      <td>0.444444</td>\n",
       "      <td>0.4</td>\n",
       "      <td>0.333333</td>\n",
       "      <td>0.666667</td>\n",
       "      <td>0.142857</td>\n",
       "      <td>0.222222</td>\n",
       "      <td>0.111111</td>\n",
       "      <td>0.333333</td>\n",
       "      <td>...</td>\n",
       "      <td>0.0</td>\n",
       "      <td>0.0</td>\n",
       "      <td>0.0</td>\n",
       "      <td>0.0</td>\n",
       "      <td>0.0</td>\n",
       "      <td>0.0</td>\n",
       "      <td>1.0</td>\n",
       "      <td>0.0</td>\n",
       "      <td>0.0</td>\n",
       "      <td>0.0</td>\n",
       "    </tr>\n",
       "    <tr>\n",
       "      <th>4</th>\n",
       "      <td>0.0</td>\n",
       "      <td>0.25</td>\n",
       "      <td>0.555556</td>\n",
       "      <td>0.0</td>\n",
       "      <td>0.222222</td>\n",
       "      <td>1.000000</td>\n",
       "      <td>0.000000</td>\n",
       "      <td>0.000000</td>\n",
       "      <td>0.000000</td>\n",
       "      <td>0.666667</td>\n",
       "      <td>...</td>\n",
       "      <td>0.0</td>\n",
       "      <td>0.0</td>\n",
       "      <td>0.0</td>\n",
       "      <td>0.0</td>\n",
       "      <td>0.0</td>\n",
       "      <td>0.0</td>\n",
       "      <td>1.0</td>\n",
       "      <td>0.0</td>\n",
       "      <td>0.0</td>\n",
       "      <td>0.0</td>\n",
       "    </tr>\n",
       "  </tbody>\n",
       "</table>\n",
       "<p>5 rows × 136 columns</p>\n",
       "</div>"
      ],
      "text/plain": [
       "   MAANTHUI   MGEMOMV    MGODPR   MGODOV    MGODGE    MRELGE    MRELSA   \\\n",
       "0        0.0      0.00  0.555556      0.0  0.444444  0.333333  0.142857   \n",
       "1        0.0      0.75  1.000000      0.0  0.000000  0.555556  0.000000   \n",
       "2        0.0      0.50  0.444444      0.4  0.444444  0.888889  0.142857   \n",
       "3        0.0      0.50  0.444444      0.4  0.333333  0.666667  0.142857   \n",
       "4        0.0      0.25  0.555556      0.0  0.222222  1.000000  0.000000   \n",
       "\n",
       "    MRELOV   MFALLEEN   MFGEKIND   ...  MGODRK _4  MGODRK _5  MGODRK _6  \\\n",
       "0  0.555556   0.777778   0.222222  ...        0.0        0.0        0.0   \n",
       "1  0.444444   0.000000   0.000000  ...        0.0        0.0        0.0   \n",
       "2  0.111111   0.111111   0.222222  ...        0.0        0.0        0.0   \n",
       "3  0.222222   0.111111   0.333333  ...        0.0        0.0        0.0   \n",
       "4  0.000000   0.000000   0.666667  ...        0.0        0.0        0.0   \n",
       "\n",
       "   MGODRK _7  MGODRK _8  MGODRK _9  PWAPART _0  PWAPART _1  PWAPART _2  \\\n",
       "0        0.0        0.0        0.0         0.0         0.0         1.0   \n",
       "1        0.0        0.0        0.0         1.0         0.0         0.0   \n",
       "2        0.0        0.0        0.0         1.0         0.0         0.0   \n",
       "3        0.0        0.0        0.0         1.0         0.0         0.0   \n",
       "4        0.0        0.0        0.0         1.0         0.0         0.0   \n",
       "\n",
       "   PWAPART _3  \n",
       "0         0.0  \n",
       "1         0.0  \n",
       "2         0.0  \n",
       "3         0.0  \n",
       "4         0.0  \n",
       "\n",
       "[5 rows x 136 columns]"
      ]
     },
     "execution_count": 62,
     "metadata": {},
     "output_type": "execute_result"
    }
   ],
   "source": [
    "data_X1 = mms.transform(X_test)\n",
    "columns = X_test.columns\n",
    "data_X1 = pd.DataFrame(data_X1,columns=columns)\n",
    "data_X1.head()"
   ]
  },
  {
   "cell_type": "code",
   "execution_count": 63,
   "id": "e2b25891",
   "metadata": {},
   "outputs": [
    {
     "data": {
      "text/plain": [
       "(1165, 136)"
      ]
     },
     "execution_count": 63,
     "metadata": {},
     "output_type": "execute_result"
    }
   ],
   "source": [
    "data_X1.shape"
   ]
  },
  {
   "cell_type": "markdown",
   "id": "17f6cff1",
   "metadata": {},
   "source": [
    "Test Data has 1165 rows as we took 20% of the original data as test data"
   ]
  },
  {
   "cell_type": "code",
   "execution_count": 64,
   "id": "0ed105a1",
   "metadata": {},
   "outputs": [],
   "source": [
    "X_test2 = data_X1[final_features]"
   ]
  },
  {
   "cell_type": "code",
   "execution_count": 65,
   "id": "be2335fe",
   "metadata": {},
   "outputs": [],
   "source": [
    "y_test2 = y_test.copy()"
   ]
  },
  {
   "cell_type": "code",
   "execution_count": 66,
   "id": "3e41a81a",
   "metadata": {},
   "outputs": [
    {
     "data": {
      "text/plain": [
       "(1165, 1)"
      ]
     },
     "execution_count": 66,
     "metadata": {},
     "output_type": "execute_result"
    }
   ],
   "source": [
    "y_test2.shape"
   ]
  },
  {
   "cell_type": "code",
   "execution_count": 67,
   "id": "00a5a45b",
   "metadata": {},
   "outputs": [
    {
     "name": "stdout",
     "output_type": "stream",
     "text": [
      "Accuracy of logistic regression classifier on validation set: 0.92\n"
     ]
    }
   ],
   "source": [
    "y_pred2 = logreg.predict(X_test2)\n",
    "print('Accuracy of logistic regression classifier on validation set: {:.2f}'.format(logreg.score(X_test2, y_test2)))"
   ]
  },
  {
   "cell_type": "code",
   "execution_count": 68,
   "id": "d19b276e",
   "metadata": {},
   "outputs": [
    {
     "name": "stdout",
     "output_type": "stream",
     "text": [
      "[[1068   20]\n",
      " [  72    5]]\n"
     ]
    }
   ],
   "source": [
    "from sklearn.metrics import confusion_matrix\n",
    "confusion_matrix = confusion_matrix(y_test2, y_pred2)\n",
    "print(confusion_matrix)"
   ]
  },
  {
   "cell_type": "code",
   "execution_count": 70,
   "id": "4b0240f4",
   "metadata": {},
   "outputs": [
    {
     "name": "stdout",
     "output_type": "stream",
     "text": [
      "              precision    recall  f1-score   support\n",
      "\n",
      "           0       0.94      0.98      0.96      1088\n",
      "           1       0.20      0.06      0.10        77\n",
      "\n",
      "    accuracy                           0.92      1165\n",
      "   macro avg       0.57      0.52      0.53      1165\n",
      "weighted avg       0.89      0.92      0.90      1165\n",
      "\n"
     ]
    }
   ],
   "source": [
    "print(classification_report(y_test2, y_pred2))"
   ]
  },
  {
   "cell_type": "code",
   "execution_count": 71,
   "id": "97b295a5",
   "metadata": {},
   "outputs": [
    {
     "data": {
      "image/png": "[encoded data removed]",
      "text/plain": [
       "<Figure size 432x288 with 1 Axes>"
      ]
     },
     "metadata": {},
     "output_type": "display_data"
    }
   ],
   "source": [
    "logit_roc_auc = roc_auc_score(y_test2, logreg.predict(X_test2))\n",
    "fpr, tpr, thresholds = roc_curve(y_test2, logreg.predict_proba(X_test2)[:,1])\n",
    "plt.figure()\n",
    "plt.plot(fpr, tpr, label='Logistic Regression (area = %0.2f)' % logit_roc_auc)\n",
    "plt.plot([0, 1], [0, 1],'r--')\n",
    "plt.xlim([0.0, 1.0])\n",
    "plt.ylim([0.0, 1.05])\n",
    "plt.xlabel('False Positive Rate')\n",
    "plt.ylabel('True Positive Rate')\n",
    "plt.title('Receiver operating characteristic')\n",
    "plt.legend(loc=\"lower right\")\n",
    "plt.savefig('Log_ROC')\n",
    "plt.show()"
   ]
  },
  {
   "cell_type": "code",
   "execution_count": 73,
   "id": "10e2d2c8",
   "metadata": {},
   "outputs": [
    {
     "data": {
      "text/plain": [
       "0    1088\n",
       "1      77\n",
       "Name: y, dtype: int64"
      ]
     },
     "execution_count": 73,
     "metadata": {},
     "output_type": "execute_result"
    }
   ],
   "source": [
    "y_test2['y'].value_counts()"
   ]
  },
  {
   "cell_type": "markdown",
   "id": "e4e26c41",
   "metadata": {},
   "source": [
    "### Confusion Matrix for Test Data Set"
   ]
  },
  {
   "cell_type": "code",
   "execution_count": 77,
   "id": "d78ae349",
   "metadata": {},
   "outputs": [
    {
     "data": {
      "text/plain": [
       "<AxesSubplot:>"
      ]
     },
     "execution_count": 77,
     "metadata": {},
     "output_type": "execute_result"
    },
    {
     "data": {
      "image/png": "[encoded data removed]",
      "text/plain": [
       "<Figure size 432x288 with 2 Axes>"
      ]
     },
     "metadata": {},
     "output_type": "display_data"
    }
   ],
   "source": [
    "group_names = ['True Neg','False Pos','False Neg','True Pos']\n",
    "group_counts = [\"{0:0.0f}\".format(value) for value in\n",
    "                confusion_matrix.flatten()]\n",
    "group_percentages = [\"{0:.2%}\".format(value) for value in\n",
    "                     confusion_matrix.flatten()/np.sum(confusion_matrix)]\n",
    "labels = [f\"{v1}\\n{v2}\\n{v3}\" for v1, v2, v3 in\n",
    "          zip(group_names,group_counts,group_percentages)]\n",
    "labels = np.asarray(labels).reshape(2,2)\n",
    "sns.heatmap(confusion_matrix, annot=labels, fmt='', cmap='Blues')"
   ]
  },
  {
   "cell_type": "code",
   "execution_count": null,
   "id": "d7e6d40a",
   "metadata": {},
   "outputs": [],
   "source": []
  }
 ],
 "metadata": {
  "kernelspec": {
   "display_name": "Python 3",
   "language": "python",
   "name": "python3"
  },
  "language_info": {
   "codemirror_mode": {
    "name": "ipython",
    "version": 3
   },
   "file_extension": ".py",
   "mimetype": "text/x-python",
   "name": "python",
   "nbconvert_exporter": "python",
   "pygments_lexer": "ipython3",
   "version": "3.8.8"
  }
 },
 "nbformat": 4,
 "nbformat_minor": 5
}
